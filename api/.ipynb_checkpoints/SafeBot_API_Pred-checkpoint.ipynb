{
 "cells": [
  {
   "cell_type": "code",
   "execution_count": 1,
   "id": "fcce4c37",
   "metadata": {},
   "outputs": [],
   "source": [
    "#!pip install Cython\n",
    "#!pip install fasttext"
   ]
  },
  {
   "cell_type": "code",
   "execution_count": 2,
   "id": "769e0bea",
   "metadata": {},
   "outputs": [
    {
     "ename": "FileNotFoundError",
     "evalue": "[WinError 3] The system cannot find the path specified: 'E:\\\\Great Learning\\\\DL\\\\Capstone\\\\Data\\\\'",
     "output_type": "error",
     "traceback": [
      "\u001b[1;31m---------------------------------------------------------------------------\u001b[0m",
      "\u001b[1;31mFileNotFoundError\u001b[0m                         Traceback (most recent call last)",
      "\u001b[1;32m<ipython-input-2-8db6d0ebbb8c>\u001b[0m in \u001b[0;36m<module>\u001b[1;34m\u001b[0m\n\u001b[0;32m      4\u001b[0m \u001b[0mworking_dir\u001b[0m \u001b[1;33m=\u001b[0m \u001b[1;34m'E:\\\\Great Learning\\\\DL\\\\Capstone\\\\Data\\\\'\u001b[0m\u001b[1;33m\u001b[0m\u001b[1;33m\u001b[0m\u001b[0m\n\u001b[0;32m      5\u001b[0m \u001b[1;33m\u001b[0m\u001b[0m\n\u001b[1;32m----> 6\u001b[1;33m \u001b[0mos\u001b[0m\u001b[1;33m.\u001b[0m\u001b[0mchdir\u001b[0m\u001b[1;33m(\u001b[0m\u001b[0mworking_dir\u001b[0m\u001b[1;33m)\u001b[0m\u001b[1;33m\u001b[0m\u001b[1;33m\u001b[0m\u001b[0m\n\u001b[0m\u001b[0;32m      7\u001b[0m \u001b[1;33m\u001b[0m\u001b[0m\n\u001b[0;32m      8\u001b[0m \u001b[1;31m# Suppress warnings\u001b[0m\u001b[1;33m\u001b[0m\u001b[1;33m\u001b[0m\u001b[1;33m\u001b[0m\u001b[0m\n",
      "\u001b[1;31mFileNotFoundError\u001b[0m: [WinError 3] The system cannot find the path specified: 'E:\\\\Great Learning\\\\DL\\\\Capstone\\\\Data\\\\'"
     ]
    }
   ],
   "source": [
    "# importing os for setting path\n",
    "import os\n",
    "\n",
    "working_dir = 'E:\\\\Great Learning\\\\DL\\\\Capstone\\\\Data\\\\'\n",
    "\n",
    "os.chdir(working_dir)\n",
    "\n",
    "# Suppress warnings\n",
    "import warnings; warnings.filterwarnings('ignore')"
   ]
  },
  {
   "cell_type": "code",
   "execution_count": null,
   "id": "02265a74",
   "metadata": {},
   "outputs": [],
   "source": [
    "import fasttext \n",
    "def fasttextmodelload():\n",
    "    fasttxtmodel = fasttext.load_model('ft_model_Potential.bin')\n",
    "    return fasttxtmodel"
   ]
  },
  {
   "cell_type": "code",
   "execution_count": 3,
   "id": "f48faebe",
   "metadata": {},
   "outputs": [],
   "source": [
    "def fasttxtpotentialacclvl_predict(x):\n",
    "    model = fasttextmodelload()\n",
    "    pred = model.predict(x)\n",
    "    return pred\n"
   ]
  },
  {
   "cell_type": "code",
   "execution_count": 4,
   "id": "99631d60",
   "metadata": {},
   "outputs": [],
   "source": [
    "# def map(x):\n",
    "#     if x == \"__label__3\":\n",
    "#         return \"Potential accident level: 3\"\n",
    "#     elif x == \"__label__1\":\n",
    "#         return \"Potential accident level: 1\"\n",
    "#     elif x == \"__label__2\":\n",
    "#         return \"Potential accident level: 2\"\n",
    "#     elif x == \"__label__4\":\n",
    "#         return \"Potential accident level: 4\"\n",
    "#     elif x == \"__label__5\":\n",
    "#         return \"Potential accident level: 5\"\n"
   ]
  },
  {
   "cell_type": "code",
   "execution_count": 5,
   "id": "dfe66f31",
   "metadata": {},
   "outputs": [
    {
     "ename": "NameError",
     "evalue": "name 'fasttextmodelload' is not defined",
     "output_type": "error",
     "traceback": [
      "\u001b[1;31m---------------------------------------------------------------------------\u001b[0m",
      "\u001b[1;31mNameError\u001b[0m                                 Traceback (most recent call last)",
      "\u001b[1;32m<ipython-input-5-1ff2568e96f5>\u001b[0m in \u001b[0;36m<module>\u001b[1;34m\u001b[0m\n\u001b[0;32m      1\u001b[0m \u001b[1;31m#test\u001b[0m\u001b[1;33m\u001b[0m\u001b[1;33m\u001b[0m\u001b[1;33m\u001b[0m\u001b[0m\n\u001b[1;32m----> 2\u001b[1;33m \u001b[0mprediction\u001b[0m \u001b[1;33m=\u001b[0m \u001b[0mfasttxtpotentialacclvl_predict\u001b[0m\u001b[1;33m(\u001b[0m\u001b[1;34m\"The collaborator reports that he was working in the UstulaciÃ³n and realized that the cyclone duct was obstructed and opened the door to try to unclog the same and the material detached and projected towards the employee causing small burn in the right heel.\"\u001b[0m\u001b[1;33m)\u001b[0m\u001b[1;33m\u001b[0m\u001b[1;33m\u001b[0m\u001b[0m\n\u001b[0m\u001b[0;32m      3\u001b[0m \u001b[1;33m\u001b[0m\u001b[0m\n\u001b[0;32m      4\u001b[0m \u001b[1;32mimport\u001b[0m \u001b[0mjson\u001b[0m\u001b[1;33m\u001b[0m\u001b[1;33m\u001b[0m\u001b[0m\n\u001b[0;32m      5\u001b[0m \u001b[1;33m\u001b[0m\u001b[0m\n",
      "\u001b[1;32m<ipython-input-3-5b3bcc9c6a46>\u001b[0m in \u001b[0;36mfasttxtpotentialacclvl_predict\u001b[1;34m(x)\u001b[0m\n\u001b[0;32m      1\u001b[0m \u001b[1;32mdef\u001b[0m \u001b[0mfasttxtpotentialacclvl_predict\u001b[0m\u001b[1;33m(\u001b[0m\u001b[0mx\u001b[0m\u001b[1;33m)\u001b[0m\u001b[1;33m:\u001b[0m\u001b[1;33m\u001b[0m\u001b[1;33m\u001b[0m\u001b[0m\n\u001b[1;32m----> 2\u001b[1;33m     \u001b[0mmodel\u001b[0m \u001b[1;33m=\u001b[0m \u001b[0mfasttextmodelload\u001b[0m\u001b[1;33m(\u001b[0m\u001b[1;33m)\u001b[0m\u001b[1;33m\u001b[0m\u001b[1;33m\u001b[0m\u001b[0m\n\u001b[0m\u001b[0;32m      3\u001b[0m     \u001b[0mpred\u001b[0m \u001b[1;33m=\u001b[0m \u001b[0mmodel\u001b[0m\u001b[1;33m.\u001b[0m\u001b[0mpredict\u001b[0m\u001b[1;33m(\u001b[0m\u001b[0mx\u001b[0m\u001b[1;33m)\u001b[0m\u001b[1;33m\u001b[0m\u001b[1;33m\u001b[0m\u001b[0m\n\u001b[0;32m      4\u001b[0m     \u001b[1;32mreturn\u001b[0m \u001b[0mpred\u001b[0m\u001b[1;33m\u001b[0m\u001b[1;33m\u001b[0m\u001b[0m\n",
      "\u001b[1;31mNameError\u001b[0m: name 'fasttextmodelload' is not defined"
     ]
    }
   ],
   "source": [
    "#test\n",
    "prediction = fasttxtpotentialacclvl_predict(\"The collaborator reports that he was working in the UstulaciÃ³n and realized that the cyclone duct was obstructed and opened the door to try to unclog the same and the material detached and projected towards the employee causing small burn in the right heel.\") \n",
    "\n",
    "import json\n",
    "\n",
    "jsonObj = json.dumps(prediction[0])\n",
    "print(jsonObj)"
   ]
  },
  {
   "cell_type": "code",
   "execution_count": null,
   "id": "b36fea5a",
   "metadata": {},
   "outputs": [
    {
     "name": "stdout",
     "output_type": "stream",
     "text": [
      " * Serving Flask app \"__main__\" (lazy loading)\n",
      " * Environment: production\n",
      "   WARNING: This is a development server. Do not use it in a production deployment.\n",
      "   Use a production WSGI server instead.\n",
      " * Debug mode: off\n"
     ]
    },
    {
     "name": "stderr",
     "output_type": "stream",
     "text": [
      " * Running on http://127.0.0.1:5000/ (Press CTRL+C to quit)\n",
      "[2021-10-16 01:00:25,379] ERROR in app: Exception on /get_p_acc_lvl [GET]\n",
      "Traceback (most recent call last):\n",
      "  File \"C:\\Users\\reach\\anaconda3\\lib\\site-packages\\flask\\app.py\", line 2447, in wsgi_app\n",
      "    response = self.full_dispatch_request()\n",
      "  File \"C:\\Users\\reach\\anaconda3\\lib\\site-packages\\flask\\app.py\", line 1952, in full_dispatch_request\n",
      "    rv = self.handle_user_exception(e)\n",
      "  File \"C:\\Users\\reach\\anaconda3\\lib\\site-packages\\flask\\app.py\", line 1821, in handle_user_exception\n",
      "    reraise(exc_type, exc_value, tb)\n",
      "  File \"C:\\Users\\reach\\anaconda3\\lib\\site-packages\\flask\\_compat.py\", line 39, in reraise\n",
      "    raise value\n",
      "  File \"C:\\Users\\reach\\anaconda3\\lib\\site-packages\\flask\\app.py\", line 1950, in full_dispatch_request\n",
      "    rv = self.dispatch_request()\n",
      "  File \"C:\\Users\\reach\\anaconda3\\lib\\site-packages\\flask\\app.py\", line 1936, in dispatch_request\n",
      "    return self.view_functions[rule.endpoint](**req.view_args)\n",
      "  File \"<ipython-input-6-66c859ad0712>\", line 17, in get_potential_accident_level\n",
      "    prediction = fasttxtpotentialacclvl_predict(acc_desc) #ft.predict('acc_desc')\n",
      "  File \"<ipython-input-3-5b3bcc9c6a46>\", line 2, in fasttxtpotentialacclvl_predict\n",
      "    model = fasttextmodelload()\n",
      "NameError: name 'fasttextmodelload' is not defined\n",
      "127.0.0.1 - - [16/Oct/2021 01:00:25] \"\u001b[35m\u001b[1mGET /get_p_acc_lvl?description=The+worker+carried+out+his+work+at+level+2940%2C+stop+896%3B+and+placed+metal+mesh+on+the+basket+%28SOIL+HALF%29+of+the+Scissor+the+mesh+falls+and+hits+the+back+of+his+right+hand. HTTP/1.1\u001b[0m\" 500 -\n",
      "[2021-10-16 01:01:06,302] ERROR in app: Exception on /get_p_acc_lvl [GET]\n",
      "Traceback (most recent call last):\n",
      "  File \"C:\\Users\\reach\\anaconda3\\lib\\site-packages\\flask\\app.py\", line 2447, in wsgi_app\n",
      "    response = self.full_dispatch_request()\n",
      "  File \"C:\\Users\\reach\\anaconda3\\lib\\site-packages\\flask\\app.py\", line 1952, in full_dispatch_request\n",
      "    rv = self.handle_user_exception(e)\n",
      "  File \"C:\\Users\\reach\\anaconda3\\lib\\site-packages\\flask\\app.py\", line 1821, in handle_user_exception\n",
      "    reraise(exc_type, exc_value, tb)\n",
      "  File \"C:\\Users\\reach\\anaconda3\\lib\\site-packages\\flask\\_compat.py\", line 39, in reraise\n",
      "    raise value\n",
      "  File \"C:\\Users\\reach\\anaconda3\\lib\\site-packages\\flask\\app.py\", line 1950, in full_dispatch_request\n",
      "    rv = self.dispatch_request()\n",
      "  File \"C:\\Users\\reach\\anaconda3\\lib\\site-packages\\flask\\app.py\", line 1936, in dispatch_request\n",
      "    return self.view_functions[rule.endpoint](**req.view_args)\n",
      "  File \"<ipython-input-6-66c859ad0712>\", line 17, in get_potential_accident_level\n",
      "    prediction = fasttxtpotentialacclvl_predict(acc_desc) #ft.predict('acc_desc')\n",
      "  File \"<ipython-input-3-5b3bcc9c6a46>\", line 2, in fasttxtpotentialacclvl_predict\n",
      "    model = fasttextmodelload()\n",
      "NameError: name 'fasttextmodelload' is not defined\n",
      "127.0.0.1 - - [16/Oct/2021 01:01:06] \"\u001b[35m\u001b[1mGET /get_p_acc_lvl?description=Due+to+the+accumulation+of+Waelz+on+the+conveyor+and+trailer+of+the+Filter+08FI0502%2C+the+employee+performed+the+cleaning+of+the+shutter+using+the+air+lance%2C+when+he+was+surprised+by+the+fall+of+the+product+that+was+above+the+door%2C+passing+between+the+neck+and+the+collar+of+the+aramid+jacket+and+causing+burn+in+the+neck+and+shoulder. HTTP/1.1\u001b[0m\" 500 -\n"
     ]
    }
   ],
   "source": [
    "from flask import Flask,request,json,render_template,jsonify\n",
    "\n",
    "app = Flask(__name__) # ,static_url_path='/'\n",
    "\n",
    "#@app.route('/hello')\n",
    "#def index():\n",
    "#    return render_template('index.html',name='John')  #{'hello': 'world'} \n",
    "\n",
    "\n",
    "@app.route('/get_p_acc_lvl', methods=['GET'])\n",
    "def get_potential_accident_level():\n",
    "    \n",
    "    query_parameters = request.args\n",
    "    \n",
    "    acc_desc = query_parameters.get('description')\n",
    "    \n",
    "    prediction = fasttxtpotentialacclvl_predict(acc_desc) #ft.predict('acc_desc')\n",
    "    #prediction = \"Employee was sitting in the resting area at level 326 (raise bore), when he suffered sudden illness, falling and suffering excoriation on the face.\"\n",
    "    \n",
    "    print(acc_desc)\n",
    "    \n",
    "     #pred = json.dumps(prediction[0])\n",
    "     #print(pred)\n",
    "    pred = str(prediction[0])\n",
    "    \n",
    "    if pred == \"('__label__3',)\":\n",
    "        pred =  \"Potential accident level: 3\"\n",
    "    elif pred ==\"('__label__1',)\":\n",
    "        pred = \"Potential accident level: 1\"\n",
    "    elif pred == \"('__label__2',)\":\n",
    "        pred = \"Potential accident level: 2\"\n",
    "    elif pred == \"('__label__4',)\":\n",
    "        pred = \"Potential accident level: 4\"\n",
    "    elif pred == \"('__label__5',)\":\n",
    "        pred =  \"Potential accident level: 5\"\n",
    "    \n",
    "\n",
    "    return jsonify(pred)\n",
    "\n",
    "\n",
    "if __name__ == '__main__':\n",
    "  \n",
    "    app.run()\n"
   ]
  },
  {
   "cell_type": "code",
   "execution_count": null,
   "id": "3bda388a",
   "metadata": {},
   "outputs": [],
   "source": []
  }
 ],
 "metadata": {
  "kernelspec": {
   "display_name": "Python 3",
   "language": "python",
   "name": "python3"
  }
 },
 "nbformat": 4,
 "nbformat_minor": 5
}
