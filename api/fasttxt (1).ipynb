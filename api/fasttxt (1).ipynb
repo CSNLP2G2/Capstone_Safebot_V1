{
 "cells": [
  {
   "cell_type": "code",
   "execution_count": 3,
   "metadata": {},
   "outputs": [],
   "source": [
    "# Importing the library\n",
    "import pandas as pd, numpy as np, matplotlib.pyplot as plt, seaborn as sns, gc\n",
    "from sklearn.model_selection import train_test_split, GridSearchCV, StratifiedKFold, cross_val_score, learning_curve\n",
    "import fasttext\n",
    "import csv\n",
    "import nltk\n",
    "from nltk.corpus import stopwords\n",
    "# Suppress warnings\n",
    "import warnings; warnings.filterwarnings('ignore')"
   ]
  },
  {
   "cell_type": "code",
   "execution_count": 7,
   "metadata": {},
   "outputs": [
    {
     "name": "stderr",
     "output_type": "stream",
     "text": [
      "[nltk_data] Downloading package stopwords to\n",
      "[nltk_data]     C:\\Users\\reach\\AppData\\Roaming\\nltk_data...\n",
      "[nltk_data]   Package stopwords is already up-to-date!\n"
     ]
    },
    {
     "name": "stdout",
     "output_type": "stream",
     "text": [
      "(('__label__4',), array([0.16707644]))\n"
     ]
    }
   ],
   "source": [
    "string = \"overheating\"\n",
    "def fasttext_potential_acclvl(string):\n",
    "    ds = pd.read_csv('industrial_safety_and_health_database_with_accidents_description.csv')\n",
    "    ds.rename(columns= {'Data':'Date', 'Countries':'Country', 'Genre':'Gender',\n",
    "                    'Employee or Third Party':'Employee type'}, inplace =True)\n",
    "    ds['Date'] = pd.to_datetime(ds['Date'])\n",
    "    ds['Year'] = ds['Date'].apply(lambda x: x.year)\n",
    "    ds['Month'] = ds['Date'].apply(lambda x: x.month)\n",
    "    ds['Day'] = ds['Date'].apply(lambda x: x.day)\n",
    "    ds['Weekday'] = ds['Date'].apply(lambda x: x.day_name())\n",
    "    def month_quater_conversion(x):\n",
    "      if x in [1, 2, 3]:\n",
    "        season = 'First'\n",
    "      elif x in [4, 5, 6]:\n",
    "        season = 'Second'\n",
    "      elif x in [7, 8, 9]:\n",
    "        season = 'Third'\n",
    "      elif x in [10, 11, 12]:\n",
    "        season = 'Fourth'\n",
    "      return season\n",
    "    ds['Quater'] = ds['Month'].apply(month_quater_conversion)\n",
    "    # Defining the level as per Accident Level\n",
    "    def Accident_level_conversion(x):\n",
    "      if x in ['I','II']:\n",
    "        level = 'Low'\n",
    "      elif x in ['III']:\n",
    "        level = 'Medium'\n",
    "      elif x in ['IV', 'V', 'VI']:\n",
    "        level = 'High'\n",
    "      return level\n",
    "    ds['Accident Severity'] = ds['Accident Level'].apply(Accident_level_conversion)\n",
    "    ds['Potential Severity'] = ds['Potential Accident Level'].apply(Accident_level_conversion)\n",
    "    replace_value = {'Local_01':1, 'Local_02':2, 'Local_03':3, 'Local_04':4, 'Local_05':5, 'Local_06':6, 'Local_07':7, 'Local_08':8, \n",
    "                 'Local_10':10, 'Local_09':9, 'Local_11':11, 'Local_12':12}\n",
    "    ds['Local'] = ds['Local'].map(replace_value)\n",
    "\n",
    "    replace_value = {'I':1, 'IV':4, 'III':3, 'II':2, 'V':5}\n",
    "    ds['Accident Level'] = ds['Accident Level'].map(replace_value)\n",
    "\n",
    "    replace_value = {'IV':4, 'III':3, 'I':1, 'II':2, 'V':5, 'VI':6}\n",
    "    ds['Potential Accident Level'] = ds['Potential Accident Level'].map(replace_value)\n",
    "\n",
    "    del replace_value\n",
    "    \n",
    "    nltk.download('stopwords')\n",
    "    from nltk.corpus import stopwords\n",
    "    stopwords = set(stopwords.words('english'))\n",
    "    ds['clean_Description'] = ds['Description'].apply(lambda x: ' '.join([words for words in x.split() if words not in stopwords]))    #Fasttext\n",
    "\n",
    "    ft_df_Potential = pd.DataFrame(columns=['fasttext_data'])\n",
    "    ft_df_Potential['fasttext_data'] ='__label__' + ds['Potential Accident Level'].astype(str) + \" \"+ds['clean_Description']   \n",
    "    \n",
    "    ft_df_Potential.to_csv(r'fasttext_industrial_Potential.txt', index=False, sep=' ', header=False, quoting=csv.QUOTE_NONE, quotechar=\"\", escapechar=\" \")\n",
    "    !head -n 340 fasttext_industrial_Potential.txt > ft_ind_Potential.train\n",
    "    !tail -n 85 fasttext_industrial_Potential.txt > ft_ind_Potential.valid\n",
    "    ft_model_Potential = fasttext.train_supervised(input=\"ft_ind_Potential.train\")\n",
    "    \n",
    "    train_Potential = ft_df_Potential.head(340)\n",
    "    valid_Potential = ft_df_Potential.tail(85)\n",
    "    train_Potential.to_csv(r'train_Potential.train', index=False, sep=' ', header=False, quoting=csv.QUOTE_NONE, quotechar=\"\", escapechar=\" \")\n",
    "    valid_Potential.to_csv(r'valid_Potential.valid', index=False, sep=' ', header=False, quoting=csv.QUOTE_NONE, quotechar=\"\", escapechar=\" \")\n",
    "    train_Potential = open(\"train_Potential.txt\",\"a\")\n",
    "    valid_Potential = open(\"valid_Potential.txt\",\"a\")\n",
    "    \n",
    "    ft_model_Potential = fasttext.train_supervised(input=\"train_Potential.train\")\n",
    "    \n",
    "    ft_model_Potential.save_model(\"ft_model_Potential.bin\")\n",
    "    pred = ft_model_Potential.predict(string) #@@@###@@@#@@@#@@@\n",
    "    print(pred)\n",
    "    return pred\n",
    "\n",
    "a = fasttext_potential_acclvl(string)"
   ]
  },
  {
   "cell_type": "code",
   "execution_count": null,
   "metadata": {},
   "outputs": [],
   "source": []
  }
 ],
 "metadata": {
  "kernelspec": {
   "display_name": "Python 3",
   "language": "python",
   "name": "python3"
  },
  "language_info": {
   "codemirror_mode": {
    "name": "ipython",
    "version": 3
   },
   "file_extension": ".py",
   "mimetype": "text/x-python",
   "name": "python",
   "nbconvert_exporter": "python",
   "pygments_lexer": "ipython3",
   "version": "3.8.8"
  }
 },
 "nbformat": 4,
 "nbformat_minor": 2
}
