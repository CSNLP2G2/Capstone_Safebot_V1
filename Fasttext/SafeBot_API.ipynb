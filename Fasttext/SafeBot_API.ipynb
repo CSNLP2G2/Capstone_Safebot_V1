{
 "cells": [
  {
   "cell_type": "code",
   "execution_count": null,
   "id": "959109f9",
   "metadata": {},
   "outputs": [],
   "source": []
  },
  {
   "cell_type": "code",
   "execution_count": null,
   "id": "4688cdc8",
   "metadata": {},
   "outputs": [],
   "source": [
    "from flask import Flask,request,jsonify,render_template\n",
    "\n",
    "\n",
    "\n",
    "app = Flask(__name__) # ,static_url_path='/'\n",
    "\n",
    "#@app.route('/hello')\n",
    "#def index():\n",
    "#    return render_template('index.html',name='John')  #{'hello': 'world'} \n",
    "\n",
    "\n",
    "@app.route('/get_p_acc_lvl', methods=['GET'])\n",
    "def get_potential_accident_level():\n",
    "    \n",
    "    query_parameters = request.args\n",
    "    \n",
    "    acc_desc = query_parameters.get('description')\n",
    "    \n",
    "    prediction = 'Potential Accident Level XXX' #ft.predict('acc_desc')\n",
    "    \n",
    "    return jsonify(prediction)\n",
    "\n",
    "\n",
    "if __name__ == '__main__':\n",
    "  \n",
    "    app.run()\n"
   ]
  },
  {
   "cell_type": "code",
   "execution_count": 8,
   "id": "0372a21b",
   "metadata": {},
   "outputs": [],
   "source": [
    "import numpy as np\n",
    "import pandas as pd\n",
    "import matplotlib.pyplot as plt\n",
    "%matplotlib inline\n",
    "import seaborn as sns\n",
    "from sklearn.impute import SimpleImputer\n",
    "# Basic packages\n",
    "import pandas as pd, numpy as np, matplotlib.pyplot as plt, seaborn as sns, gc\n",
    "from scipy import stats; from scipy.stats import zscore, norm, randint\n",
    "import matplotlib.style as style; style.use('fivethirtyeight')\n",
    "# Models\n",
    "from sklearn.model_selection import train_test_split, GridSearchCV, StratifiedKFold, cross_val_score, learning_curve\n",
    "#from wordcloud import WordCloud, STOPWORDS\n",
    "\n",
    "# Display settings\n",
    "pd.options.display.max_rows = 400\n",
    "pd.options.display.max_columns = 100\n",
    "pd.options.display.float_format = \"{:.2f}\".format\n",
    "\n",
    "random_state = 42\n",
    "np.random.seed(random_state)\n",
    "\n",
    "# Suppress warnings\n",
    "import warnings; warnings.filterwarnings('ignore')"
   ]
  },
  {
   "cell_type": "code",
   "execution_count": 9,
   "id": "054681ba",
   "metadata": {},
   "outputs": [],
   "source": [
    "df = pd.read_csv('industrial_safety_and_health_database_with_accidents_description.csv')"
   ]
  },
  {
   "cell_type": "code",
   "execution_count": 10,
   "id": "8d735ea7",
   "metadata": {},
   "outputs": [],
   "source": [
    "ds = df.copy()\n",
    "ds.drop('Unnamed: 0',1, inplace = True)"
   ]
  },
  {
   "cell_type": "code",
   "execution_count": 14,
   "id": "d3e49937",
   "metadata": {},
   "outputs": [],
   "source": [
    "# Defining the level as per Accident Level\n",
    "def Accident_level_conversion(x):\n",
    "  if x in ['I','II']:\n",
    "    level = 'Low'\n",
    "  elif x in ['III']:\n",
    "    level = 'Medium'\n",
    "  elif x in ['IV', 'V', 'VI']:\n",
    "    level = 'High'\n",
    "  return level"
   ]
  },
  {
   "cell_type": "code",
   "execution_count": 15,
   "id": "848399bc",
   "metadata": {},
   "outputs": [],
   "source": [
    "ds['Accident Severity'] = ds['Accident Level'].apply(Accident_level_conversion)"
   ]
  },
  {
   "cell_type": "code",
   "execution_count": 16,
   "id": "f5be7266",
   "metadata": {},
   "outputs": [],
   "source": [
    "ds['Potential Severity'] = ds['Potential Accident Level'].apply(Accident_level_conversion)"
   ]
  },
  {
   "cell_type": "code",
   "execution_count": 18,
   "id": "ee1d1ac5",
   "metadata": {},
   "outputs": [],
   "source": [
    "replace_value = {'Local_01':1, 'Local_02':2, 'Local_03':3, 'Local_04':4, 'Local_05':5, 'Local_06':6, 'Local_07':7, 'Local_08':8, \n",
    "                 'Local_10':10, 'Local_09':9, 'Local_11':11, 'Local_12':12}\n",
    "ds['Local'] = ds['Local'].map(replace_value)\n",
    "\n",
    "replace_value = {'I':1, 'IV':4, 'III':3, 'II':2, 'V':5}\n",
    "ds['Accident Level'] = ds['Accident Level'].map(replace_value)\n",
    "\n",
    "replace_value = {'IV':4, 'III':3, 'I':1, 'II':2, 'V':5, 'VI':6}\n",
    "ds['Potential Accident Level'] = ds['Potential Accident Level'].map(replace_value)\n",
    "\n",
    "del replace_value"
   ]
  },
  {
   "cell_type": "code",
   "execution_count": 19,
   "id": "326d187c",
   "metadata": {},
   "outputs": [
    {
     "name": "stderr",
     "output_type": "stream",
     "text": [
      "[nltk_data] Downloading package stopwords to\n",
      "[nltk_data]     C:\\Users\\reach\\AppData\\Roaming\\nltk_data...\n",
      "[nltk_data]   Package stopwords is already up-to-date!\n"
     ]
    }
   ],
   "source": [
    "# Removong stopwords\n",
    "import nltk\n",
    "nltk.download('stopwords')\n",
    "from nltk.corpus import stopwords\n",
    "stopwords = set(stopwords.words('english'))\n",
    "ds['clean_Description'] = ds['Description'].apply(lambda x: ' '.join([words for words in x.split() if words not in stopwords]))"
   ]
  },
  {
   "cell_type": "code",
   "execution_count": 20,
   "id": "10e96dc9",
   "metadata": {},
   "outputs": [
    {
     "name": "stdout",
     "output_type": "stream",
     "text": [
      "Requirement already satisfied: fasttext in c:\\users\\reach\\anaconda3\\lib\\site-packages (0.9.2)\n",
      "Requirement already satisfied: numpy in c:\\users\\reach\\anaconda3\\lib\\site-packages (from fasttext) (1.20.1)\n",
      "Requirement already satisfied: setuptools>=0.7.0 in c:\\users\\reach\\anaconda3\\lib\\site-packages (from fasttext) (52.0.0.post20210125)\n",
      "Requirement already satisfied: pybind11>=2.2 in c:\\users\\reach\\anaconda3\\lib\\site-packages (from fasttext) (2.7.1)\n",
      "Note: you may need to restart the kernel to use updated packages.\n"
     ]
    }
   ],
   "source": [
    "pip install fasttext"
   ]
  },
  {
   "cell_type": "code",
   "execution_count": 21,
   "id": "8c1ef6db",
   "metadata": {},
   "outputs": [],
   "source": [
    "import fasttext\n",
    "import csv"
   ]
  },
  {
   "cell_type": "code",
   "execution_count": 23,
   "id": "694d41e3",
   "metadata": {},
   "outputs": [],
   "source": [
    "ft_df_Potential = pd.DataFrame(columns=['fasttext_data'])\n",
    "ft_df_Accident = pd.DataFrame(columns=['fasttext_data'])\n",
    "\n",
    "ft_df_Potential['fasttext_data'] ='__label__' + ds['Potential Accident Level'].astype(str) + \" \"+ds['clean_Description']\n",
    "ft_df_Accident['fasttext_data'] ='__label__' + ds['Accident Level'].astype(str) + \" \"+ds['clean_Description']"
   ]
  },
  {
   "cell_type": "code",
   "execution_count": 25,
   "id": "14475729",
   "metadata": {},
   "outputs": [],
   "source": [
    "ft_df_Potential.to_csv(r'fasttext_industrial_Potential.txt', index=False, sep=' ', header=False, quoting=csv.QUOTE_NONE, quotechar=\"\", escapechar=\" \")\n",
    "ft_df_Accident.to_csv(r'fasttext_industrial_Accident.txt', index=False, sep=' ', header=False, quoting=csv.QUOTE_NONE, quotechar=\"\", escapechar=\" \")"
   ]
  },
  {
   "cell_type": "code",
   "execution_count": 26,
   "id": "ce0024be",
   "metadata": {},
   "outputs": [],
   "source": [
    "!head -n 340 fasttext_industrial_Potential.txt > ft_ind_Potential.train\n",
    "!tail -n 85 fasttext_industrial_Potential.txt > ft_ind_Potential.valid"
   ]
  },
  {
   "cell_type": "code",
   "execution_count": 27,
   "id": "48100012",
   "metadata": {},
   "outputs": [
    {
     "name": "stdout",
     "output_type": "stream",
     "text": [
      "   425  16137 132303 fasttext_industrial_Accident.txt\n"
     ]
    }
   ],
   "source": [
    "!wc fasttext_industrial_Accident.txt"
   ]
  },
  {
   "cell_type": "code",
   "execution_count": 28,
   "id": "6fbc4948",
   "metadata": {},
   "outputs": [],
   "source": [
    "!head -n 340 fasttext_industrial_Accident.txt > ft_ind_Accident.train\n",
    "!tail -n 85 fasttext_industrial_Accident.txt > ft_ind_Accident.valid"
   ]
  },
  {
   "cell_type": "code",
   "execution_count": 29,
   "id": "59528ba9",
   "metadata": {},
   "outputs": [],
   "source": [
    "ft_model_Potential = fasttext.train_supervised(input=\"ft_ind_Potential.train\")"
   ]
  },
  {
   "cell_type": "code",
   "execution_count": 30,
   "id": "f9a1f80e",
   "metadata": {},
   "outputs": [],
   "source": [
    "ft_model_Accident = fasttext.train_supervised(input=\"ft_ind_Accident.train\")"
   ]
  },
  {
   "cell_type": "code",
   "execution_count": 31,
   "id": "c7049b37",
   "metadata": {},
   "outputs": [],
   "source": [
    "ft_model_Potential.save_model(\"ft_model_Potential.bin\")\n",
    "ft_model_Accident.save_model(\"ft_model_Accident.bin\")"
   ]
  },
  {
   "cell_type": "code",
   "execution_count": 32,
   "id": "e8941a52",
   "metadata": {},
   "outputs": [
    {
     "data": {
      "text/plain": [
       "(85, 1.0, 1.0)"
      ]
     },
     "execution_count": 32,
     "metadata": {},
     "output_type": "execute_result"
    }
   ],
   "source": [
    "ft_model_Potential.test(\"ft_ind_Potential.valid\")\n",
    "ft_model_Accident.test(\"ft_ind_Accident.valid\")"
   ]
  },
  {
   "cell_type": "code",
   "execution_count": 34,
   "id": "81856ccf",
   "metadata": {},
   "outputs": [],
   "source": [
    "!head -n 340 fasttext_industrial_Potential.txt > ft_ind_Potential.train\n",
    "!tail -n 85 fasttext_industrial_Potential.txt > ft_ind_Potential.valid"
   ]
  },
  {
   "cell_type": "code",
   "execution_count": 35,
   "id": "bcac8983",
   "metadata": {},
   "outputs": [],
   "source": [
    "!head -n 340 fasttext_industrial_Accident.txt > ft_ind_Accident.train\n",
    "!tail -n 85 fasttext_industrial_Accident.txt > ft_ind_Accident.valid"
   ]
  },
  {
   "cell_type": "code",
   "execution_count": 36,
   "id": "e669c705",
   "metadata": {},
   "outputs": [],
   "source": [
    "ft_model_Potential = fasttext.train_supervised(input=\"ft_ind_Potential.train\")\n",
    "ft_model_Accident = fasttext.train_supervised(input=\"ft_ind_Accident.train\")"
   ]
  },
  {
   "cell_type": "code",
   "execution_count": 38,
   "id": "1aec78ce",
   "metadata": {},
   "outputs": [
    {
     "data": {
      "text/plain": [
       "(85, 1.0, 1.0)"
      ]
     },
     "execution_count": 38,
     "metadata": {},
     "output_type": "execute_result"
    }
   ],
   "source": [
    "ft_model_Potential.test(\"ft_ind_Potential.valid\")"
   ]
  },
  {
   "cell_type": "code",
   "execution_count": 39,
   "id": "0250b29e",
   "metadata": {},
   "outputs": [
    {
     "data": {
      "text/plain": [
       "(85, 1.0, 1.0)"
      ]
     },
     "execution_count": 39,
     "metadata": {},
     "output_type": "execute_result"
    }
   ],
   "source": [
    "ft_model_Accident.test(\"ft_ind_Accident.valid\")"
   ]
  },
  {
   "cell_type": "code",
   "execution_count": 40,
   "id": "e32a5e34",
   "metadata": {},
   "outputs": [],
   "source": [
    "ft_model_Potential = fasttext.train_supervised(input=\"ft_ind_Potential.train\", lr=0.9)"
   ]
  },
  {
   "cell_type": "code",
   "execution_count": 41,
   "id": "ec620b23",
   "metadata": {},
   "outputs": [],
   "source": [
    "ft_model_Accident = fasttext.train_supervised(input=\"ft_ind_Accident.train\", lr=0.9)"
   ]
  },
  {
   "cell_type": "code",
   "execution_count": 42,
   "id": "988d78ce",
   "metadata": {},
   "outputs": [
    {
     "data": {
      "text/plain": [
       "(85, 1.0, 1.0)"
      ]
     },
     "execution_count": 42,
     "metadata": {},
     "output_type": "execute_result"
    }
   ],
   "source": [
    "ft_model_Potential.test(\"ft_ind_Potential.valid\")"
   ]
  },
  {
   "cell_type": "code",
   "execution_count": 43,
   "id": "b7fafceb",
   "metadata": {},
   "outputs": [
    {
     "data": {
      "text/plain": [
       "(85, 1.0, 1.0)"
      ]
     },
     "execution_count": 43,
     "metadata": {},
     "output_type": "execute_result"
    }
   ],
   "source": [
    "ft_model_Accident.test(\"ft_ind_Accident.valid\")"
   ]
  },
  {
   "cell_type": "code",
   "execution_count": 44,
   "id": "e63d988c",
   "metadata": {},
   "outputs": [],
   "source": [
    "#With both Lr and EPOC combined\n",
    "ft_model_Potential = fasttext.train_supervised(input=\"ft_ind_Potential.train\", lr=0.9, epoch=25)"
   ]
  },
  {
   "cell_type": "code",
   "execution_count": 45,
   "id": "1a77eeed",
   "metadata": {},
   "outputs": [],
   "source": [
    "ft_model_Accident = fasttext.train_supervised(input=\"ft_ind_Accident.train\", lr=0.9, epoch=25)"
   ]
  },
  {
   "cell_type": "code",
   "execution_count": 46,
   "id": "21adb33b",
   "metadata": {},
   "outputs": [
    {
     "data": {
      "text/plain": [
       "(85, 1.0, 1.0)"
      ]
     },
     "execution_count": 46,
     "metadata": {},
     "output_type": "execute_result"
    }
   ],
   "source": [
    "ft_model_Potential.test(\"ft_ind_Potential.valid\")"
   ]
  },
  {
   "cell_type": "code",
   "execution_count": 47,
   "id": "75fa5784",
   "metadata": {},
   "outputs": [
    {
     "data": {
      "text/plain": [
       "(85, 1.0, 1.0)"
      ]
     },
     "execution_count": 47,
     "metadata": {},
     "output_type": "execute_result"
    }
   ],
   "source": [
    "ft_model_Accident.test(\"ft_ind_Accident.valid\")"
   ]
  },
  {
   "cell_type": "code",
   "execution_count": 48,
   "id": "7b6f991a",
   "metadata": {},
   "outputs": [],
   "source": [
    "#With WordNGrams\n",
    "ft_model_Potential = fasttext.train_supervised(input=\"ft_ind_Potential.train\", lr=0.8, epoch=25, wordNgrams=2)\n",
    "ft_model_Accident = fasttext.train_supervised(input=\"ft_ind_Accident.train\", lr=0.8, epoch=25, wordNgrams=2)"
   ]
  },
  {
   "cell_type": "code",
   "execution_count": 49,
   "id": "5b6ea590",
   "metadata": {},
   "outputs": [
    {
     "data": {
      "text/plain": [
       "(85, 1.0, 1.0)"
      ]
     },
     "execution_count": 49,
     "metadata": {},
     "output_type": "execute_result"
    }
   ],
   "source": [
    "ft_model_Potential.test(\"ft_ind_Potential.valid\")"
   ]
  },
  {
   "cell_type": "code",
   "execution_count": 50,
   "id": "a798f68e",
   "metadata": {},
   "outputs": [
    {
     "data": {
      "text/plain": [
       "(85, 1.0, 1.0)"
      ]
     },
     "execution_count": 50,
     "metadata": {},
     "output_type": "execute_result"
    }
   ],
   "source": [
    "ft_model_Accident.test(\"ft_ind_Accident.valid\")"
   ]
  },
  {
   "cell_type": "code",
   "execution_count": 51,
   "id": "ac5ed05e",
   "metadata": {},
   "outputs": [],
   "source": [
    "# With hierarchical softmax\n",
    "ft_model_Potential = fasttext.train_supervised(input=\"ft_ind_Potential.train\", lr=0.7, epoch=25, wordNgrams=2, bucket=200000, dim=50, loss='hs')\n",
    "ft_model_Accident = fasttext.train_supervised(input=\"ft_ind_Accident.train\", lr=0.7, epoch=25, wordNgrams=2, bucket=200000, dim=50, loss='hs')"
   ]
  },
  {
   "cell_type": "code",
   "execution_count": 52,
   "id": "ee814c99",
   "metadata": {},
   "outputs": [
    {
     "data": {
      "text/plain": [
       "(85, 1.0, 1.0)"
      ]
     },
     "execution_count": 52,
     "metadata": {},
     "output_type": "execute_result"
    }
   ],
   "source": [
    "ft_model_Potential.test(\"ft_ind_Potential.valid\")"
   ]
  },
  {
   "cell_type": "code",
   "execution_count": 53,
   "id": "24278f06",
   "metadata": {},
   "outputs": [
    {
     "data": {
      "text/plain": [
       "(85, 1.0, 1.0)"
      ]
     },
     "execution_count": 53,
     "metadata": {},
     "output_type": "execute_result"
    }
   ],
   "source": [
    "ft_model_Accident.test(\"ft_ind_Accident.valid\")"
   ]
  },
  {
   "cell_type": "code",
   "execution_count": 54,
   "id": "ed5c29f5",
   "metadata": {},
   "outputs": [],
   "source": [
    "# Juat tried with Multi labels too\n",
    "ft_model_Potential = fasttext.train_supervised(input=\"ft_ind_Potential.train\", lr=0.5, epoch=25, wordNgrams=2, bucket=200000, dim=50, loss='ova')\n",
    "ft_model_Accident = fasttext.train_supervised(input=\"ft_ind_Accident.train\", lr=0.5, epoch=25, wordNgrams=2, bucket=200000, dim=50, loss='ova')"
   ]
  },
  {
   "cell_type": "code",
   "execution_count": null,
   "id": "d3afaeb3",
   "metadata": {},
   "outputs": [],
   "source": []
  }
 ],
 "metadata": {
  "kernelspec": {
   "display_name": "Python 3",
   "language": "python",
   "name": "python3"
  },
  "language_info": {
   "codemirror_mode": {
    "name": "ipython",
    "version": 3
   },
   "file_extension": ".py",
   "mimetype": "text/x-python",
   "name": "python",
   "nbconvert_exporter": "python",
   "pygments_lexer": "ipython3",
   "version": "3.8.8"
  }
 },
 "nbformat": 4,
 "nbformat_minor": 5
}
