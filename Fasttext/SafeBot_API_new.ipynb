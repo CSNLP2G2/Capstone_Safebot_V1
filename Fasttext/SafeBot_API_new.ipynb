{
 "cells": [
  {
   "cell_type": "markdown",
   "metadata": {
    "id": "GL0IZMyxUEqP"
   },
   "source": [
    "\n",
    "\n",
    "```\n",
    "# This is formatted as code\n",
    "```\n",
    "\n",
    "# Capstone Project: NLP - Safebot - FastText"
   ]
  },
  {
   "cell_type": "code",
   "execution_count": 1,
   "metadata": {
    "colab": {
     "base_uri": "https://localhost:8080/"
    },
    "id": "F6iTEg4NwrQ6",
    "outputId": "0827c6f3-43e2-441f-d000-650e3b4f0ebf"
   },
   "outputs": [],
   "source": [
    "# Importing the library\n",
    "#import plotly\n",
    "#print(plotly.__version__)\n",
    "import numpy as np\n",
    "import pandas as pd\n",
    "import matplotlib.pyplot as plt\n",
    "%matplotlib inline\n",
    "import seaborn as sns\n",
    "#import plotly.express as px\n",
    "#import plotly.graph_objects as go\n",
    "#import plotly.io as pio\n",
    "#pio.renderers.default = 'colab'\n",
    "from sklearn.impute import SimpleImputer\n",
    "# Basic packages\n",
    "import pandas as pd, numpy as np, matplotlib.pyplot as plt, seaborn as sns, gc\n",
    "from scipy import stats; from scipy.stats import zscore, norm, randint\n",
    "import matplotlib.style as style; style.use('fivethirtyeight')\n",
    "# Models\n",
    "from sklearn.model_selection import train_test_split, GridSearchCV, StratifiedKFold, cross_val_score, learning_curve\n",
    "#from wordcloud import WordCloud, STOPWORDS\n",
    "\n",
    "# Display settings\n",
    "pd.options.display.max_rows = 400\n",
    "pd.options.display.max_columns = 100\n",
    "pd.options.display.float_format = \"{:.2f}\".format\n",
    "\n",
    "random_state = 42\n",
    "np.random.seed(random_state)\n",
    "\n",
    "# Suppress warnings\n",
    "import warnings; warnings.filterwarnings('ignore')"
   ]
  },
  {
   "cell_type": "code",
   "execution_count": 2,
   "metadata": {
    "colab": {
     "base_uri": "https://localhost:8080/",
     "height": 442
    },
    "id": "AI2MdVef4Hcr",
    "outputId": "71f7d777-8071-4a21-e51a-3dee1eb40415"
   },
   "outputs": [
    {
     "name": "stdout",
     "output_type": "stream",
     "text": [
      "(425, 11)\n"
     ]
    },
    {
     "data": {
      "text/html": [
       "<div>\n",
       "<style scoped>\n",
       "    .dataframe tbody tr th:only-of-type {\n",
       "        vertical-align: middle;\n",
       "    }\n",
       "\n",
       "    .dataframe tbody tr th {\n",
       "        vertical-align: top;\n",
       "    }\n",
       "\n",
       "    .dataframe thead th {\n",
       "        text-align: right;\n",
       "    }\n",
       "</style>\n",
       "<table border=\"1\" class=\"dataframe\">\n",
       "  <thead>\n",
       "    <tr style=\"text-align: right;\">\n",
       "      <th></th>\n",
       "      <th>Unnamed: 0</th>\n",
       "      <th>Data</th>\n",
       "      <th>Countries</th>\n",
       "      <th>Local</th>\n",
       "      <th>Industry Sector</th>\n",
       "      <th>Accident Level</th>\n",
       "      <th>Potential Accident Level</th>\n",
       "      <th>Genre</th>\n",
       "      <th>Employee or Third Party</th>\n",
       "      <th>Critical Risk</th>\n",
       "      <th>Description</th>\n",
       "    </tr>\n",
       "  </thead>\n",
       "  <tbody>\n",
       "    <tr>\n",
       "      <th>0</th>\n",
       "      <td>0</td>\n",
       "      <td>2016-01-01 00:00:00</td>\n",
       "      <td>Country_01</td>\n",
       "      <td>Local_01</td>\n",
       "      <td>Mining</td>\n",
       "      <td>I</td>\n",
       "      <td>IV</td>\n",
       "      <td>Male</td>\n",
       "      <td>Third Party</td>\n",
       "      <td>Pressed</td>\n",
       "      <td>While removing the drill rod of the Jumbo 08 f...</td>\n",
       "    </tr>\n",
       "    <tr>\n",
       "      <th>1</th>\n",
       "      <td>1</td>\n",
       "      <td>2016-01-02 00:00:00</td>\n",
       "      <td>Country_02</td>\n",
       "      <td>Local_02</td>\n",
       "      <td>Mining</td>\n",
       "      <td>I</td>\n",
       "      <td>IV</td>\n",
       "      <td>Male</td>\n",
       "      <td>Employee</td>\n",
       "      <td>Pressurized Systems</td>\n",
       "      <td>During the activation of a sodium sulphide pum...</td>\n",
       "    </tr>\n",
       "    <tr>\n",
       "      <th>2</th>\n",
       "      <td>2</td>\n",
       "      <td>2016-01-06 00:00:00</td>\n",
       "      <td>Country_01</td>\n",
       "      <td>Local_03</td>\n",
       "      <td>Mining</td>\n",
       "      <td>I</td>\n",
       "      <td>III</td>\n",
       "      <td>Male</td>\n",
       "      <td>Third Party (Remote)</td>\n",
       "      <td>Manual Tools</td>\n",
       "      <td>In the sub-station MILPO located at level +170...</td>\n",
       "    </tr>\n",
       "    <tr>\n",
       "      <th>3</th>\n",
       "      <td>3</td>\n",
       "      <td>2016-01-08 00:00:00</td>\n",
       "      <td>Country_01</td>\n",
       "      <td>Local_04</td>\n",
       "      <td>Mining</td>\n",
       "      <td>I</td>\n",
       "      <td>I</td>\n",
       "      <td>Male</td>\n",
       "      <td>Third Party</td>\n",
       "      <td>Others</td>\n",
       "      <td>Being 9:45 am. approximately in the Nv. 1880 C...</td>\n",
       "    </tr>\n",
       "    <tr>\n",
       "      <th>4</th>\n",
       "      <td>4</td>\n",
       "      <td>2016-01-10 00:00:00</td>\n",
       "      <td>Country_01</td>\n",
       "      <td>Local_04</td>\n",
       "      <td>Mining</td>\n",
       "      <td>IV</td>\n",
       "      <td>IV</td>\n",
       "      <td>Male</td>\n",
       "      <td>Third Party</td>\n",
       "      <td>Others</td>\n",
       "      <td>Approximately at 11:45 a.m. in circumstances t...</td>\n",
       "    </tr>\n",
       "  </tbody>\n",
       "</table>\n",
       "</div>"
      ],
      "text/plain": [
       "   Unnamed: 0                 Data   Countries     Local Industry Sector  \\\n",
       "0           0  2016-01-01 00:00:00  Country_01  Local_01          Mining   \n",
       "1           1  2016-01-02 00:00:00  Country_02  Local_02          Mining   \n",
       "2           2  2016-01-06 00:00:00  Country_01  Local_03          Mining   \n",
       "3           3  2016-01-08 00:00:00  Country_01  Local_04          Mining   \n",
       "4           4  2016-01-10 00:00:00  Country_01  Local_04          Mining   \n",
       "\n",
       "  Accident Level Potential Accident Level Genre Employee or Third Party  \\\n",
       "0              I                       IV  Male             Third Party   \n",
       "1              I                       IV  Male                Employee   \n",
       "2              I                      III  Male    Third Party (Remote)   \n",
       "3              I                        I  Male             Third Party   \n",
       "4             IV                       IV  Male             Third Party   \n",
       "\n",
       "         Critical Risk                                        Description  \n",
       "0              Pressed  While removing the drill rod of the Jumbo 08 f...  \n",
       "1  Pressurized Systems  During the activation of a sodium sulphide pum...  \n",
       "2         Manual Tools  In the sub-station MILPO located at level +170...  \n",
       "3               Others  Being 9:45 am. approximately in the Nv. 1880 C...  \n",
       "4               Others  Approximately at 11:45 a.m. in circumstances t...  "
      ]
     },
     "execution_count": 2,
     "metadata": {},
     "output_type": "execute_result"
    }
   ],
   "source": [
    "df = pd.read_csv('industrial_safety_and_health_database_with_accidents_description.csv')\n",
    "print(df.shape)\n",
    "df.head()"
   ]
  },
  {
   "cell_type": "code",
   "execution_count": 3,
   "metadata": {
    "id": "tfF0cOcA5tio"
   },
   "outputs": [],
   "source": [
    "ds = df.copy()\n",
    "ds.drop('Unnamed: 0',1, inplace = True)"
   ]
  },
  {
   "cell_type": "code",
   "execution_count": 4,
   "metadata": {
    "colab": {
     "base_uri": "https://localhost:8080/"
    },
    "id": "WZYjtVl_4xn6",
    "outputId": "aa7d3c78-3867-4375-dc9b-f3a5b6483f3e"
   },
   "outputs": [
    {
     "name": "stdout",
     "output_type": "stream",
     "text": [
      "<class 'pandas.core.frame.DataFrame'>\n",
      "RangeIndex: 425 entries, 0 to 424\n",
      "Data columns (total 10 columns):\n",
      " #   Column                    Non-Null Count  Dtype \n",
      "---  ------                    --------------  ----- \n",
      " 0   Data                      425 non-null    object\n",
      " 1   Countries                 425 non-null    object\n",
      " 2   Local                     425 non-null    object\n",
      " 3   Industry Sector           425 non-null    object\n",
      " 4   Accident Level            425 non-null    object\n",
      " 5   Potential Accident Level  425 non-null    object\n",
      " 6   Genre                     425 non-null    object\n",
      " 7   Employee or Third Party   425 non-null    object\n",
      " 8   Critical Risk             425 non-null    object\n",
      " 9   Description               425 non-null    object\n",
      "dtypes: object(10)\n",
      "memory usage: 33.3+ KB\n"
     ]
    }
   ],
   "source": [
    "ds.info()"
   ]
  },
  {
   "cell_type": "code",
   "execution_count": 5,
   "metadata": {
    "colab": {
     "base_uri": "https://localhost:8080/"
    },
    "id": "Y9S40Df_uB-o",
    "outputId": "c7bd1bc8-a666-48c0-eb08-84edb8fdf5be"
   },
   "outputs": [
    {
     "data": {
      "text/plain": [
       "Index(['Data', 'Countries', 'Local', 'Industry Sector', 'Accident Level',\n",
       "       'Potential Accident Level', 'Genre', 'Employee or Third Party',\n",
       "       'Critical Risk', 'Description'],\n",
       "      dtype='object')"
      ]
     },
     "execution_count": 5,
     "metadata": {},
     "output_type": "execute_result"
    }
   ],
   "source": [
    "# Displaying the columns\n",
    "ds.columns"
   ]
  },
  {
   "cell_type": "code",
   "execution_count": 6,
   "metadata": {
    "colab": {
     "base_uri": "https://localhost:8080/",
     "height": 391
    },
    "id": "hMEnx67xuNwa",
    "outputId": "75713a9c-a42e-427e-a979-1d1f1f530b00"
   },
   "outputs": [
    {
     "data": {
      "text/html": [
       "<div>\n",
       "<style scoped>\n",
       "    .dataframe tbody tr th:only-of-type {\n",
       "        vertical-align: middle;\n",
       "    }\n",
       "\n",
       "    .dataframe tbody tr th {\n",
       "        vertical-align: top;\n",
       "    }\n",
       "\n",
       "    .dataframe thead th {\n",
       "        text-align: right;\n",
       "    }\n",
       "</style>\n",
       "<table border=\"1\" class=\"dataframe\">\n",
       "  <thead>\n",
       "    <tr style=\"text-align: right;\">\n",
       "      <th></th>\n",
       "      <th>Date</th>\n",
       "      <th>Country</th>\n",
       "      <th>Local</th>\n",
       "      <th>Industry Sector</th>\n",
       "      <th>Accident Level</th>\n",
       "      <th>Potential Accident Level</th>\n",
       "      <th>Gender</th>\n",
       "      <th>Employee type</th>\n",
       "      <th>Critical Risk</th>\n",
       "      <th>Description</th>\n",
       "    </tr>\n",
       "  </thead>\n",
       "  <tbody>\n",
       "    <tr>\n",
       "      <th>0</th>\n",
       "      <td>2016-01-01 00:00:00</td>\n",
       "      <td>Country_01</td>\n",
       "      <td>Local_01</td>\n",
       "      <td>Mining</td>\n",
       "      <td>I</td>\n",
       "      <td>IV</td>\n",
       "      <td>Male</td>\n",
       "      <td>Third Party</td>\n",
       "      <td>Pressed</td>\n",
       "      <td>While removing the drill rod of the Jumbo 08 f...</td>\n",
       "    </tr>\n",
       "    <tr>\n",
       "      <th>1</th>\n",
       "      <td>2016-01-02 00:00:00</td>\n",
       "      <td>Country_02</td>\n",
       "      <td>Local_02</td>\n",
       "      <td>Mining</td>\n",
       "      <td>I</td>\n",
       "      <td>IV</td>\n",
       "      <td>Male</td>\n",
       "      <td>Employee</td>\n",
       "      <td>Pressurized Systems</td>\n",
       "      <td>During the activation of a sodium sulphide pum...</td>\n",
       "    </tr>\n",
       "    <tr>\n",
       "      <th>2</th>\n",
       "      <td>2016-01-06 00:00:00</td>\n",
       "      <td>Country_01</td>\n",
       "      <td>Local_03</td>\n",
       "      <td>Mining</td>\n",
       "      <td>I</td>\n",
       "      <td>III</td>\n",
       "      <td>Male</td>\n",
       "      <td>Third Party (Remote)</td>\n",
       "      <td>Manual Tools</td>\n",
       "      <td>In the sub-station MILPO located at level +170...</td>\n",
       "    </tr>\n",
       "    <tr>\n",
       "      <th>3</th>\n",
       "      <td>2016-01-08 00:00:00</td>\n",
       "      <td>Country_01</td>\n",
       "      <td>Local_04</td>\n",
       "      <td>Mining</td>\n",
       "      <td>I</td>\n",
       "      <td>I</td>\n",
       "      <td>Male</td>\n",
       "      <td>Third Party</td>\n",
       "      <td>Others</td>\n",
       "      <td>Being 9:45 am. approximately in the Nv. 1880 C...</td>\n",
       "    </tr>\n",
       "    <tr>\n",
       "      <th>4</th>\n",
       "      <td>2016-01-10 00:00:00</td>\n",
       "      <td>Country_01</td>\n",
       "      <td>Local_04</td>\n",
       "      <td>Mining</td>\n",
       "      <td>IV</td>\n",
       "      <td>IV</td>\n",
       "      <td>Male</td>\n",
       "      <td>Third Party</td>\n",
       "      <td>Others</td>\n",
       "      <td>Approximately at 11:45 a.m. in circumstances t...</td>\n",
       "    </tr>\n",
       "  </tbody>\n",
       "</table>\n",
       "</div>"
      ],
      "text/plain": [
       "                  Date     Country     Local Industry Sector Accident Level  \\\n",
       "0  2016-01-01 00:00:00  Country_01  Local_01          Mining              I   \n",
       "1  2016-01-02 00:00:00  Country_02  Local_02          Mining              I   \n",
       "2  2016-01-06 00:00:00  Country_01  Local_03          Mining              I   \n",
       "3  2016-01-08 00:00:00  Country_01  Local_04          Mining              I   \n",
       "4  2016-01-10 00:00:00  Country_01  Local_04          Mining             IV   \n",
       "\n",
       "  Potential Accident Level Gender         Employee type        Critical Risk  \\\n",
       "0                       IV   Male           Third Party              Pressed   \n",
       "1                       IV   Male              Employee  Pressurized Systems   \n",
       "2                      III   Male  Third Party (Remote)         Manual Tools   \n",
       "3                        I   Male           Third Party               Others   \n",
       "4                       IV   Male           Third Party               Others   \n",
       "\n",
       "                                         Description  \n",
       "0  While removing the drill rod of the Jumbo 08 f...  \n",
       "1  During the activation of a sodium sulphide pum...  \n",
       "2  In the sub-station MILPO located at level +170...  \n",
       "3  Being 9:45 am. approximately in the Nv. 1880 C...  \n",
       "4  Approximately at 11:45 a.m. in circumstances t...  "
      ]
     },
     "execution_count": 6,
     "metadata": {},
     "output_type": "execute_result"
    }
   ],
   "source": [
    "ds.rename(columns= {'Data':'Date', 'Countries':'Country', 'Genre':'Gender',\n",
    "                    'Employee or Third Party':'Employee type'}, inplace =True)\n",
    "ds.head()"
   ]
  },
  {
   "cell_type": "markdown",
   "metadata": {
    "id": "higxPxfcwbN3"
   },
   "source": [
    "## Data Preparation for Time Series Analysis"
   ]
  },
  {
   "cell_type": "code",
   "execution_count": 7,
   "metadata": {
    "colab": {
     "base_uri": "https://localhost:8080/",
     "height": 564
    },
    "id": "pVbwIgGewqDX",
    "outputId": "ee398c98-79ac-436b-cf8e-2441cfab4d17"
   },
   "outputs": [
    {
     "data": {
      "text/html": [
       "<div>\n",
       "<style scoped>\n",
       "    .dataframe tbody tr th:only-of-type {\n",
       "        vertical-align: middle;\n",
       "    }\n",
       "\n",
       "    .dataframe tbody tr th {\n",
       "        vertical-align: top;\n",
       "    }\n",
       "\n",
       "    .dataframe thead th {\n",
       "        text-align: right;\n",
       "    }\n",
       "</style>\n",
       "<table border=\"1\" class=\"dataframe\">\n",
       "  <thead>\n",
       "    <tr style=\"text-align: right;\">\n",
       "      <th></th>\n",
       "      <th>Date</th>\n",
       "      <th>Country</th>\n",
       "      <th>Local</th>\n",
       "      <th>Industry Sector</th>\n",
       "      <th>Accident Level</th>\n",
       "      <th>Potential Accident Level</th>\n",
       "      <th>Gender</th>\n",
       "      <th>Employee type</th>\n",
       "      <th>Critical Risk</th>\n",
       "      <th>Description</th>\n",
       "      <th>Year</th>\n",
       "      <th>Month</th>\n",
       "      <th>Day</th>\n",
       "      <th>Weekday</th>\n",
       "    </tr>\n",
       "  </thead>\n",
       "  <tbody>\n",
       "    <tr>\n",
       "      <th>0</th>\n",
       "      <td>2016-01-01</td>\n",
       "      <td>Country_01</td>\n",
       "      <td>Local_01</td>\n",
       "      <td>Mining</td>\n",
       "      <td>I</td>\n",
       "      <td>IV</td>\n",
       "      <td>Male</td>\n",
       "      <td>Third Party</td>\n",
       "      <td>Pressed</td>\n",
       "      <td>While removing the drill rod of the Jumbo 08 f...</td>\n",
       "      <td>2016</td>\n",
       "      <td>1</td>\n",
       "      <td>1</td>\n",
       "      <td>Friday</td>\n",
       "    </tr>\n",
       "    <tr>\n",
       "      <th>1</th>\n",
       "      <td>2016-01-02</td>\n",
       "      <td>Country_02</td>\n",
       "      <td>Local_02</td>\n",
       "      <td>Mining</td>\n",
       "      <td>I</td>\n",
       "      <td>IV</td>\n",
       "      <td>Male</td>\n",
       "      <td>Employee</td>\n",
       "      <td>Pressurized Systems</td>\n",
       "      <td>During the activation of a sodium sulphide pum...</td>\n",
       "      <td>2016</td>\n",
       "      <td>1</td>\n",
       "      <td>2</td>\n",
       "      <td>Saturday</td>\n",
       "    </tr>\n",
       "    <tr>\n",
       "      <th>2</th>\n",
       "      <td>2016-01-06</td>\n",
       "      <td>Country_01</td>\n",
       "      <td>Local_03</td>\n",
       "      <td>Mining</td>\n",
       "      <td>I</td>\n",
       "      <td>III</td>\n",
       "      <td>Male</td>\n",
       "      <td>Third Party (Remote)</td>\n",
       "      <td>Manual Tools</td>\n",
       "      <td>In the sub-station MILPO located at level +170...</td>\n",
       "      <td>2016</td>\n",
       "      <td>1</td>\n",
       "      <td>6</td>\n",
       "      <td>Wednesday</td>\n",
       "    </tr>\n",
       "    <tr>\n",
       "      <th>3</th>\n",
       "      <td>2016-01-08</td>\n",
       "      <td>Country_01</td>\n",
       "      <td>Local_04</td>\n",
       "      <td>Mining</td>\n",
       "      <td>I</td>\n",
       "      <td>I</td>\n",
       "      <td>Male</td>\n",
       "      <td>Third Party</td>\n",
       "      <td>Others</td>\n",
       "      <td>Being 9:45 am. approximately in the Nv. 1880 C...</td>\n",
       "      <td>2016</td>\n",
       "      <td>1</td>\n",
       "      <td>8</td>\n",
       "      <td>Friday</td>\n",
       "    </tr>\n",
       "    <tr>\n",
       "      <th>4</th>\n",
       "      <td>2016-01-10</td>\n",
       "      <td>Country_01</td>\n",
       "      <td>Local_04</td>\n",
       "      <td>Mining</td>\n",
       "      <td>IV</td>\n",
       "      <td>IV</td>\n",
       "      <td>Male</td>\n",
       "      <td>Third Party</td>\n",
       "      <td>Others</td>\n",
       "      <td>Approximately at 11:45 a.m. in circumstances t...</td>\n",
       "      <td>2016</td>\n",
       "      <td>1</td>\n",
       "      <td>10</td>\n",
       "      <td>Sunday</td>\n",
       "    </tr>\n",
       "  </tbody>\n",
       "</table>\n",
       "</div>"
      ],
      "text/plain": [
       "        Date     Country     Local Industry Sector Accident Level  \\\n",
       "0 2016-01-01  Country_01  Local_01          Mining              I   \n",
       "1 2016-01-02  Country_02  Local_02          Mining              I   \n",
       "2 2016-01-06  Country_01  Local_03          Mining              I   \n",
       "3 2016-01-08  Country_01  Local_04          Mining              I   \n",
       "4 2016-01-10  Country_01  Local_04          Mining             IV   \n",
       "\n",
       "  Potential Accident Level Gender         Employee type        Critical Risk  \\\n",
       "0                       IV   Male           Third Party              Pressed   \n",
       "1                       IV   Male              Employee  Pressurized Systems   \n",
       "2                      III   Male  Third Party (Remote)         Manual Tools   \n",
       "3                        I   Male           Third Party               Others   \n",
       "4                       IV   Male           Third Party               Others   \n",
       "\n",
       "                                         Description  Year  Month  Day  \\\n",
       "0  While removing the drill rod of the Jumbo 08 f...  2016      1    1   \n",
       "1  During the activation of a sodium sulphide pum...  2016      1    2   \n",
       "2  In the sub-station MILPO located at level +170...  2016      1    6   \n",
       "3  Being 9:45 am. approximately in the Nv. 1880 C...  2016      1    8   \n",
       "4  Approximately at 11:45 a.m. in circumstances t...  2016      1   10   \n",
       "\n",
       "     Weekday  \n",
       "0     Friday  \n",
       "1   Saturday  \n",
       "2  Wednesday  \n",
       "3     Friday  \n",
       "4     Sunday  "
      ]
     },
     "execution_count": 7,
     "metadata": {},
     "output_type": "execute_result"
    }
   ],
   "source": [
    "ds['Date'] = pd.to_datetime(ds['Date'])\n",
    "ds['Year'] = ds['Date'].apply(lambda x: x.year)\n",
    "ds['Month'] = ds['Date'].apply(lambda x: x.month)\n",
    "ds['Day'] = ds['Date'].apply(lambda x: x.day)\n",
    "ds['Weekday'] = ds['Date'].apply(lambda x: x.day_name())\n",
    "ds.head()"
   ]
  },
  {
   "cell_type": "code",
   "execution_count": 8,
   "metadata": {
    "colab": {
     "base_uri": "https://localhost:8080/",
     "height": 564
    },
    "id": "u4rp62hMyNDU",
    "outputId": "8b14af77-1cf0-40c8-83e6-ff33fcfa4e74"
   },
   "outputs": [
    {
     "data": {
      "text/html": [
       "<div>\n",
       "<style scoped>\n",
       "    .dataframe tbody tr th:only-of-type {\n",
       "        vertical-align: middle;\n",
       "    }\n",
       "\n",
       "    .dataframe tbody tr th {\n",
       "        vertical-align: top;\n",
       "    }\n",
       "\n",
       "    .dataframe thead th {\n",
       "        text-align: right;\n",
       "    }\n",
       "</style>\n",
       "<table border=\"1\" class=\"dataframe\">\n",
       "  <thead>\n",
       "    <tr style=\"text-align: right;\">\n",
       "      <th></th>\n",
       "      <th>Date</th>\n",
       "      <th>Country</th>\n",
       "      <th>Local</th>\n",
       "      <th>Industry Sector</th>\n",
       "      <th>Accident Level</th>\n",
       "      <th>Potential Accident Level</th>\n",
       "      <th>Gender</th>\n",
       "      <th>Employee type</th>\n",
       "      <th>Critical Risk</th>\n",
       "      <th>Description</th>\n",
       "      <th>Year</th>\n",
       "      <th>Month</th>\n",
       "      <th>Day</th>\n",
       "      <th>Weekday</th>\n",
       "      <th>Quater</th>\n",
       "    </tr>\n",
       "  </thead>\n",
       "  <tbody>\n",
       "    <tr>\n",
       "      <th>0</th>\n",
       "      <td>2016-01-01</td>\n",
       "      <td>Country_01</td>\n",
       "      <td>Local_01</td>\n",
       "      <td>Mining</td>\n",
       "      <td>I</td>\n",
       "      <td>IV</td>\n",
       "      <td>Male</td>\n",
       "      <td>Third Party</td>\n",
       "      <td>Pressed</td>\n",
       "      <td>While removing the drill rod of the Jumbo 08 f...</td>\n",
       "      <td>2016</td>\n",
       "      <td>1</td>\n",
       "      <td>1</td>\n",
       "      <td>Friday</td>\n",
       "      <td>First</td>\n",
       "    </tr>\n",
       "    <tr>\n",
       "      <th>1</th>\n",
       "      <td>2016-01-02</td>\n",
       "      <td>Country_02</td>\n",
       "      <td>Local_02</td>\n",
       "      <td>Mining</td>\n",
       "      <td>I</td>\n",
       "      <td>IV</td>\n",
       "      <td>Male</td>\n",
       "      <td>Employee</td>\n",
       "      <td>Pressurized Systems</td>\n",
       "      <td>During the activation of a sodium sulphide pum...</td>\n",
       "      <td>2016</td>\n",
       "      <td>1</td>\n",
       "      <td>2</td>\n",
       "      <td>Saturday</td>\n",
       "      <td>First</td>\n",
       "    </tr>\n",
       "    <tr>\n",
       "      <th>2</th>\n",
       "      <td>2016-01-06</td>\n",
       "      <td>Country_01</td>\n",
       "      <td>Local_03</td>\n",
       "      <td>Mining</td>\n",
       "      <td>I</td>\n",
       "      <td>III</td>\n",
       "      <td>Male</td>\n",
       "      <td>Third Party (Remote)</td>\n",
       "      <td>Manual Tools</td>\n",
       "      <td>In the sub-station MILPO located at level +170...</td>\n",
       "      <td>2016</td>\n",
       "      <td>1</td>\n",
       "      <td>6</td>\n",
       "      <td>Wednesday</td>\n",
       "      <td>First</td>\n",
       "    </tr>\n",
       "    <tr>\n",
       "      <th>3</th>\n",
       "      <td>2016-01-08</td>\n",
       "      <td>Country_01</td>\n",
       "      <td>Local_04</td>\n",
       "      <td>Mining</td>\n",
       "      <td>I</td>\n",
       "      <td>I</td>\n",
       "      <td>Male</td>\n",
       "      <td>Third Party</td>\n",
       "      <td>Others</td>\n",
       "      <td>Being 9:45 am. approximately in the Nv. 1880 C...</td>\n",
       "      <td>2016</td>\n",
       "      <td>1</td>\n",
       "      <td>8</td>\n",
       "      <td>Friday</td>\n",
       "      <td>First</td>\n",
       "    </tr>\n",
       "    <tr>\n",
       "      <th>4</th>\n",
       "      <td>2016-01-10</td>\n",
       "      <td>Country_01</td>\n",
       "      <td>Local_04</td>\n",
       "      <td>Mining</td>\n",
       "      <td>IV</td>\n",
       "      <td>IV</td>\n",
       "      <td>Male</td>\n",
       "      <td>Third Party</td>\n",
       "      <td>Others</td>\n",
       "      <td>Approximately at 11:45 a.m. in circumstances t...</td>\n",
       "      <td>2016</td>\n",
       "      <td>1</td>\n",
       "      <td>10</td>\n",
       "      <td>Sunday</td>\n",
       "      <td>First</td>\n",
       "    </tr>\n",
       "  </tbody>\n",
       "</table>\n",
       "</div>"
      ],
      "text/plain": [
       "        Date     Country     Local Industry Sector Accident Level  \\\n",
       "0 2016-01-01  Country_01  Local_01          Mining              I   \n",
       "1 2016-01-02  Country_02  Local_02          Mining              I   \n",
       "2 2016-01-06  Country_01  Local_03          Mining              I   \n",
       "3 2016-01-08  Country_01  Local_04          Mining              I   \n",
       "4 2016-01-10  Country_01  Local_04          Mining             IV   \n",
       "\n",
       "  Potential Accident Level Gender         Employee type        Critical Risk  \\\n",
       "0                       IV   Male           Third Party              Pressed   \n",
       "1                       IV   Male              Employee  Pressurized Systems   \n",
       "2                      III   Male  Third Party (Remote)         Manual Tools   \n",
       "3                        I   Male           Third Party               Others   \n",
       "4                       IV   Male           Third Party               Others   \n",
       "\n",
       "                                         Description  Year  Month  Day  \\\n",
       "0  While removing the drill rod of the Jumbo 08 f...  2016      1    1   \n",
       "1  During the activation of a sodium sulphide pum...  2016      1    2   \n",
       "2  In the sub-station MILPO located at level +170...  2016      1    6   \n",
       "3  Being 9:45 am. approximately in the Nv. 1880 C...  2016      1    8   \n",
       "4  Approximately at 11:45 a.m. in circumstances t...  2016      1   10   \n",
       "\n",
       "     Weekday Quater  \n",
       "0     Friday  First  \n",
       "1   Saturday  First  \n",
       "2  Wednesday  First  \n",
       "3     Friday  First  \n",
       "4     Sunday  First  "
      ]
     },
     "execution_count": 8,
     "metadata": {},
     "output_type": "execute_result"
    }
   ],
   "source": [
    "# Defining a function to creat new feature called Quater\n",
    "def month_quater_conversion(x):\n",
    "  if x in [1, 2, 3]:\n",
    "    season = 'First'\n",
    "  elif x in [4, 5, 6]:\n",
    "    season = 'Second'\n",
    "  elif x in [7, 8, 9]:\n",
    "    season = 'Third'\n",
    "  elif x in [10, 11, 12]:\n",
    "    season = 'Fourth'\n",
    "  return season\n",
    "\n",
    "ds['Quater'] = ds['Month'].apply(month_quater_conversion)\n",
    "ds.head()"
   ]
  },
  {
   "cell_type": "code",
   "execution_count": 9,
   "metadata": {
    "colab": {
     "base_uri": "https://localhost:8080/"
    },
    "id": "7J1vhu4FXRmI",
    "outputId": "53e6a0a9-f0de-4a79-ee42-4588bf39198a"
   },
   "outputs": [
    {
     "data": {
      "text/plain": [
       "array(['I', 'IV', 'III', 'II', 'V'], dtype=object)"
      ]
     },
     "execution_count": 9,
     "metadata": {},
     "output_type": "execute_result"
    }
   ],
   "source": [
    "ds['Accident Level'].unique()"
   ]
  },
  {
   "cell_type": "code",
   "execution_count": 10,
   "metadata": {
    "colab": {
     "base_uri": "https://localhost:8080/"
    },
    "id": "WN_K4aKqX0Tp",
    "outputId": "2b332b3d-8e2d-4820-b076-fd18fd23001c"
   },
   "outputs": [
    {
     "data": {
      "text/plain": [
       "array(['IV', 'III', 'I', 'II', 'V', 'VI'], dtype=object)"
      ]
     },
     "execution_count": 10,
     "metadata": {},
     "output_type": "execute_result"
    }
   ],
   "source": [
    "ds['Potential Accident Level'].unique()"
   ]
  },
  {
   "cell_type": "code",
   "execution_count": 11,
   "metadata": {
    "id": "ix4T_XV7WrQE"
   },
   "outputs": [],
   "source": [
    "# Defining the level as per Accident Level\n",
    "def Accident_level_conversion(x):\n",
    "  if x in ['I','II']:\n",
    "    level = 'Low'\n",
    "  elif x in ['III']:\n",
    "    level = 'Medium'\n",
    "  elif x in ['IV', 'V', 'VI']:\n",
    "    level = 'High'\n",
    "  return level"
   ]
  },
  {
   "cell_type": "code",
   "execution_count": 12,
   "metadata": {
    "id": "2TUqqRQhc1qy"
   },
   "outputs": [],
   "source": [
    "ds['Accident Severity'] = ds['Accident Level'].apply(Accident_level_conversion)"
   ]
  },
  {
   "cell_type": "code",
   "execution_count": 13,
   "metadata": {
    "id": "kzz9nR_yi-Wx"
   },
   "outputs": [],
   "source": [
    "ds['Potential Severity'] = ds['Potential Accident Level'].apply(Accident_level_conversion)"
   ]
  },
  {
   "cell_type": "code",
   "execution_count": 14,
   "metadata": {
    "colab": {
     "base_uri": "https://localhost:8080/",
     "height": 564
    },
    "id": "nTFbwYYJdBm4",
    "outputId": "f56ac6ad-bfff-4015-ba10-ee0f75f9de4b"
   },
   "outputs": [
    {
     "data": {
      "text/html": [
       "<div>\n",
       "<style scoped>\n",
       "    .dataframe tbody tr th:only-of-type {\n",
       "        vertical-align: middle;\n",
       "    }\n",
       "\n",
       "    .dataframe tbody tr th {\n",
       "        vertical-align: top;\n",
       "    }\n",
       "\n",
       "    .dataframe thead th {\n",
       "        text-align: right;\n",
       "    }\n",
       "</style>\n",
       "<table border=\"1\" class=\"dataframe\">\n",
       "  <thead>\n",
       "    <tr style=\"text-align: right;\">\n",
       "      <th></th>\n",
       "      <th>Date</th>\n",
       "      <th>Country</th>\n",
       "      <th>Local</th>\n",
       "      <th>Industry Sector</th>\n",
       "      <th>Accident Level</th>\n",
       "      <th>Potential Accident Level</th>\n",
       "      <th>Gender</th>\n",
       "      <th>Employee type</th>\n",
       "      <th>Critical Risk</th>\n",
       "      <th>Description</th>\n",
       "      <th>Year</th>\n",
       "      <th>Month</th>\n",
       "      <th>Day</th>\n",
       "      <th>Weekday</th>\n",
       "      <th>Quater</th>\n",
       "      <th>Accident Severity</th>\n",
       "      <th>Potential Severity</th>\n",
       "    </tr>\n",
       "  </thead>\n",
       "  <tbody>\n",
       "    <tr>\n",
       "      <th>0</th>\n",
       "      <td>2016-01-01</td>\n",
       "      <td>Country_01</td>\n",
       "      <td>Local_01</td>\n",
       "      <td>Mining</td>\n",
       "      <td>I</td>\n",
       "      <td>IV</td>\n",
       "      <td>Male</td>\n",
       "      <td>Third Party</td>\n",
       "      <td>Pressed</td>\n",
       "      <td>While removing the drill rod of the Jumbo 08 f...</td>\n",
       "      <td>2016</td>\n",
       "      <td>1</td>\n",
       "      <td>1</td>\n",
       "      <td>Friday</td>\n",
       "      <td>First</td>\n",
       "      <td>Low</td>\n",
       "      <td>High</td>\n",
       "    </tr>\n",
       "    <tr>\n",
       "      <th>1</th>\n",
       "      <td>2016-01-02</td>\n",
       "      <td>Country_02</td>\n",
       "      <td>Local_02</td>\n",
       "      <td>Mining</td>\n",
       "      <td>I</td>\n",
       "      <td>IV</td>\n",
       "      <td>Male</td>\n",
       "      <td>Employee</td>\n",
       "      <td>Pressurized Systems</td>\n",
       "      <td>During the activation of a sodium sulphide pum...</td>\n",
       "      <td>2016</td>\n",
       "      <td>1</td>\n",
       "      <td>2</td>\n",
       "      <td>Saturday</td>\n",
       "      <td>First</td>\n",
       "      <td>Low</td>\n",
       "      <td>High</td>\n",
       "    </tr>\n",
       "    <tr>\n",
       "      <th>2</th>\n",
       "      <td>2016-01-06</td>\n",
       "      <td>Country_01</td>\n",
       "      <td>Local_03</td>\n",
       "      <td>Mining</td>\n",
       "      <td>I</td>\n",
       "      <td>III</td>\n",
       "      <td>Male</td>\n",
       "      <td>Third Party (Remote)</td>\n",
       "      <td>Manual Tools</td>\n",
       "      <td>In the sub-station MILPO located at level +170...</td>\n",
       "      <td>2016</td>\n",
       "      <td>1</td>\n",
       "      <td>6</td>\n",
       "      <td>Wednesday</td>\n",
       "      <td>First</td>\n",
       "      <td>Low</td>\n",
       "      <td>Medium</td>\n",
       "    </tr>\n",
       "    <tr>\n",
       "      <th>3</th>\n",
       "      <td>2016-01-08</td>\n",
       "      <td>Country_01</td>\n",
       "      <td>Local_04</td>\n",
       "      <td>Mining</td>\n",
       "      <td>I</td>\n",
       "      <td>I</td>\n",
       "      <td>Male</td>\n",
       "      <td>Third Party</td>\n",
       "      <td>Others</td>\n",
       "      <td>Being 9:45 am. approximately in the Nv. 1880 C...</td>\n",
       "      <td>2016</td>\n",
       "      <td>1</td>\n",
       "      <td>8</td>\n",
       "      <td>Friday</td>\n",
       "      <td>First</td>\n",
       "      <td>Low</td>\n",
       "      <td>Low</td>\n",
       "    </tr>\n",
       "    <tr>\n",
       "      <th>4</th>\n",
       "      <td>2016-01-10</td>\n",
       "      <td>Country_01</td>\n",
       "      <td>Local_04</td>\n",
       "      <td>Mining</td>\n",
       "      <td>IV</td>\n",
       "      <td>IV</td>\n",
       "      <td>Male</td>\n",
       "      <td>Third Party</td>\n",
       "      <td>Others</td>\n",
       "      <td>Approximately at 11:45 a.m. in circumstances t...</td>\n",
       "      <td>2016</td>\n",
       "      <td>1</td>\n",
       "      <td>10</td>\n",
       "      <td>Sunday</td>\n",
       "      <td>First</td>\n",
       "      <td>High</td>\n",
       "      <td>High</td>\n",
       "    </tr>\n",
       "  </tbody>\n",
       "</table>\n",
       "</div>"
      ],
      "text/plain": [
       "        Date     Country     Local Industry Sector Accident Level  \\\n",
       "0 2016-01-01  Country_01  Local_01          Mining              I   \n",
       "1 2016-01-02  Country_02  Local_02          Mining              I   \n",
       "2 2016-01-06  Country_01  Local_03          Mining              I   \n",
       "3 2016-01-08  Country_01  Local_04          Mining              I   \n",
       "4 2016-01-10  Country_01  Local_04          Mining             IV   \n",
       "\n",
       "  Potential Accident Level Gender         Employee type        Critical Risk  \\\n",
       "0                       IV   Male           Third Party              Pressed   \n",
       "1                       IV   Male              Employee  Pressurized Systems   \n",
       "2                      III   Male  Third Party (Remote)         Manual Tools   \n",
       "3                        I   Male           Third Party               Others   \n",
       "4                       IV   Male           Third Party               Others   \n",
       "\n",
       "                                         Description  Year  Month  Day  \\\n",
       "0  While removing the drill rod of the Jumbo 08 f...  2016      1    1   \n",
       "1  During the activation of a sodium sulphide pum...  2016      1    2   \n",
       "2  In the sub-station MILPO located at level +170...  2016      1    6   \n",
       "3  Being 9:45 am. approximately in the Nv. 1880 C...  2016      1    8   \n",
       "4  Approximately at 11:45 a.m. in circumstances t...  2016      1   10   \n",
       "\n",
       "     Weekday Quater Accident Severity Potential Severity  \n",
       "0     Friday  First               Low               High  \n",
       "1   Saturday  First               Low               High  \n",
       "2  Wednesday  First               Low             Medium  \n",
       "3     Friday  First               Low                Low  \n",
       "4     Sunday  First              High               High  "
      ]
     },
     "execution_count": 14,
     "metadata": {},
     "output_type": "execute_result"
    }
   ],
   "source": [
    "ds.head()"
   ]
  },
  {
   "cell_type": "markdown",
   "metadata": {
    "id": "r0KOaMDb1vmL"
   },
   "source": [
    "## Replacing categorical values"
   ]
  },
  {
   "cell_type": "code",
   "execution_count": 15,
   "metadata": {
    "colab": {
     "base_uri": "https://localhost:8080/",
     "height": 564
    },
    "id": "rEfTa5q12mUZ",
    "outputId": "a2ec7bd9-a15c-409f-f439-01e097e273bb"
   },
   "outputs": [
    {
     "data": {
      "text/html": [
       "<div>\n",
       "<style scoped>\n",
       "    .dataframe tbody tr th:only-of-type {\n",
       "        vertical-align: middle;\n",
       "    }\n",
       "\n",
       "    .dataframe tbody tr th {\n",
       "        vertical-align: top;\n",
       "    }\n",
       "\n",
       "    .dataframe thead th {\n",
       "        text-align: right;\n",
       "    }\n",
       "</style>\n",
       "<table border=\"1\" class=\"dataframe\">\n",
       "  <thead>\n",
       "    <tr style=\"text-align: right;\">\n",
       "      <th></th>\n",
       "      <th>Date</th>\n",
       "      <th>Country</th>\n",
       "      <th>Local</th>\n",
       "      <th>Industry Sector</th>\n",
       "      <th>Accident Level</th>\n",
       "      <th>Potential Accident Level</th>\n",
       "      <th>Gender</th>\n",
       "      <th>Employee type</th>\n",
       "      <th>Critical Risk</th>\n",
       "      <th>Description</th>\n",
       "      <th>Year</th>\n",
       "      <th>Month</th>\n",
       "      <th>Day</th>\n",
       "      <th>Weekday</th>\n",
       "      <th>Quater</th>\n",
       "      <th>Accident Severity</th>\n",
       "      <th>Potential Severity</th>\n",
       "    </tr>\n",
       "  </thead>\n",
       "  <tbody>\n",
       "    <tr>\n",
       "      <th>0</th>\n",
       "      <td>2016-01-01</td>\n",
       "      <td>Country_01</td>\n",
       "      <td>1</td>\n",
       "      <td>Mining</td>\n",
       "      <td>1</td>\n",
       "      <td>4</td>\n",
       "      <td>Male</td>\n",
       "      <td>Third Party</td>\n",
       "      <td>Pressed</td>\n",
       "      <td>While removing the drill rod of the Jumbo 08 f...</td>\n",
       "      <td>2016</td>\n",
       "      <td>1</td>\n",
       "      <td>1</td>\n",
       "      <td>Friday</td>\n",
       "      <td>First</td>\n",
       "      <td>Low</td>\n",
       "      <td>High</td>\n",
       "    </tr>\n",
       "    <tr>\n",
       "      <th>1</th>\n",
       "      <td>2016-01-02</td>\n",
       "      <td>Country_02</td>\n",
       "      <td>2</td>\n",
       "      <td>Mining</td>\n",
       "      <td>1</td>\n",
       "      <td>4</td>\n",
       "      <td>Male</td>\n",
       "      <td>Employee</td>\n",
       "      <td>Pressurized Systems</td>\n",
       "      <td>During the activation of a sodium sulphide pum...</td>\n",
       "      <td>2016</td>\n",
       "      <td>1</td>\n",
       "      <td>2</td>\n",
       "      <td>Saturday</td>\n",
       "      <td>First</td>\n",
       "      <td>Low</td>\n",
       "      <td>High</td>\n",
       "    </tr>\n",
       "    <tr>\n",
       "      <th>2</th>\n",
       "      <td>2016-01-06</td>\n",
       "      <td>Country_01</td>\n",
       "      <td>3</td>\n",
       "      <td>Mining</td>\n",
       "      <td>1</td>\n",
       "      <td>3</td>\n",
       "      <td>Male</td>\n",
       "      <td>Third Party (Remote)</td>\n",
       "      <td>Manual Tools</td>\n",
       "      <td>In the sub-station MILPO located at level +170...</td>\n",
       "      <td>2016</td>\n",
       "      <td>1</td>\n",
       "      <td>6</td>\n",
       "      <td>Wednesday</td>\n",
       "      <td>First</td>\n",
       "      <td>Low</td>\n",
       "      <td>Medium</td>\n",
       "    </tr>\n",
       "    <tr>\n",
       "      <th>3</th>\n",
       "      <td>2016-01-08</td>\n",
       "      <td>Country_01</td>\n",
       "      <td>4</td>\n",
       "      <td>Mining</td>\n",
       "      <td>1</td>\n",
       "      <td>1</td>\n",
       "      <td>Male</td>\n",
       "      <td>Third Party</td>\n",
       "      <td>Others</td>\n",
       "      <td>Being 9:45 am. approximately in the Nv. 1880 C...</td>\n",
       "      <td>2016</td>\n",
       "      <td>1</td>\n",
       "      <td>8</td>\n",
       "      <td>Friday</td>\n",
       "      <td>First</td>\n",
       "      <td>Low</td>\n",
       "      <td>Low</td>\n",
       "    </tr>\n",
       "    <tr>\n",
       "      <th>4</th>\n",
       "      <td>2016-01-10</td>\n",
       "      <td>Country_01</td>\n",
       "      <td>4</td>\n",
       "      <td>Mining</td>\n",
       "      <td>4</td>\n",
       "      <td>4</td>\n",
       "      <td>Male</td>\n",
       "      <td>Third Party</td>\n",
       "      <td>Others</td>\n",
       "      <td>Approximately at 11:45 a.m. in circumstances t...</td>\n",
       "      <td>2016</td>\n",
       "      <td>1</td>\n",
       "      <td>10</td>\n",
       "      <td>Sunday</td>\n",
       "      <td>First</td>\n",
       "      <td>High</td>\n",
       "      <td>High</td>\n",
       "    </tr>\n",
       "  </tbody>\n",
       "</table>\n",
       "</div>"
      ],
      "text/plain": [
       "        Date     Country  Local Industry Sector  Accident Level  \\\n",
       "0 2016-01-01  Country_01      1          Mining               1   \n",
       "1 2016-01-02  Country_02      2          Mining               1   \n",
       "2 2016-01-06  Country_01      3          Mining               1   \n",
       "3 2016-01-08  Country_01      4          Mining               1   \n",
       "4 2016-01-10  Country_01      4          Mining               4   \n",
       "\n",
       "   Potential Accident Level Gender         Employee type        Critical Risk  \\\n",
       "0                         4   Male           Third Party              Pressed   \n",
       "1                         4   Male              Employee  Pressurized Systems   \n",
       "2                         3   Male  Third Party (Remote)         Manual Tools   \n",
       "3                         1   Male           Third Party               Others   \n",
       "4                         4   Male           Third Party               Others   \n",
       "\n",
       "                                         Description  Year  Month  Day  \\\n",
       "0  While removing the drill rod of the Jumbo 08 f...  2016      1    1   \n",
       "1  During the activation of a sodium sulphide pum...  2016      1    2   \n",
       "2  In the sub-station MILPO located at level +170...  2016      1    6   \n",
       "3  Being 9:45 am. approximately in the Nv. 1880 C...  2016      1    8   \n",
       "4  Approximately at 11:45 a.m. in circumstances t...  2016      1   10   \n",
       "\n",
       "     Weekday Quater Accident Severity Potential Severity  \n",
       "0     Friday  First               Low               High  \n",
       "1   Saturday  First               Low               High  \n",
       "2  Wednesday  First               Low             Medium  \n",
       "3     Friday  First               Low                Low  \n",
       "4     Sunday  First              High               High  "
      ]
     },
     "execution_count": 15,
     "metadata": {},
     "output_type": "execute_result"
    }
   ],
   "source": [
    "replace_value = {'Local_01':1, 'Local_02':2, 'Local_03':3, 'Local_04':4, 'Local_05':5, 'Local_06':6, 'Local_07':7, 'Local_08':8, \n",
    "                 'Local_10':10, 'Local_09':9, 'Local_11':11, 'Local_12':12}\n",
    "ds['Local'] = ds['Local'].map(replace_value)\n",
    "\n",
    "replace_value = {'I':1, 'IV':4, 'III':3, 'II':2, 'V':5}\n",
    "ds['Accident Level'] = ds['Accident Level'].map(replace_value)\n",
    "\n",
    "replace_value = {'IV':4, 'III':3, 'I':1, 'II':2, 'V':5, 'VI':6}\n",
    "ds['Potential Accident Level'] = ds['Potential Accident Level'].map(replace_value)\n",
    "\n",
    "del replace_value\n",
    "\n",
    "ds.head()"
   ]
  },
  {
   "cell_type": "markdown",
   "metadata": {
    "id": "7vCGupjS5oxR"
   },
   "source": [
    "# Exploratory Data Analysis"
   ]
  },
  {
   "cell_type": "code",
   "execution_count": 16,
   "metadata": {
    "colab": {
     "base_uri": "https://localhost:8080/"
    },
    "id": "A6_pMd6JohId",
    "outputId": "a800730b-9b18-4a35-d820-abc5276c6df9"
   },
   "outputs": [
    {
     "name": "stderr",
     "output_type": "stream",
     "text": [
      "[nltk_data] Downloading package stopwords to\n",
      "[nltk_data]     C:\\Users\\reach\\AppData\\Roaming\\nltk_data...\n",
      "[nltk_data]   Package stopwords is already up-to-date!\n"
     ]
    }
   ],
   "source": [
    "# Removong stopwords\n",
    "import nltk\n",
    "nltk.download('stopwords')\n",
    "from nltk.corpus import stopwords\n",
    "stopwords = set(stopwords.words('english'))\n",
    "ds['clean_Description'] = ds['Description'].apply(lambda x: ' '.join([words for words in x.split() if words not in stopwords]))"
   ]
  },
  {
   "cell_type": "markdown",
   "metadata": {
    "id": "5J9cZ4J42jTs"
   },
   "source": [
    "# Design, train and test with Fast Text classifiers"
   ]
  },
  {
   "cell_type": "markdown",
   "metadata": {
    "id": "KRc4zH1oTsMu"
   },
   "source": [
    "# Installing and using Fastext now for Classification"
   ]
  },
  {
   "cell_type": "code",
   "execution_count": 17,
   "metadata": {
    "colab": {
     "base_uri": "https://localhost:8080/"
    },
    "id": "Ru9gDdEtnPtf",
    "outputId": "afa37435-a68b-4800-a90a-87655eb1ee79"
   },
   "outputs": [
    {
     "name": "stdout",
     "output_type": "stream",
     "text": [
      "Requirement already satisfied: fasttext in c:\\users\\reach\\anaconda3\\lib\\site-packages (0.9.2)\n",
      "Requirement already satisfied: numpy in c:\\users\\reach\\anaconda3\\lib\\site-packages (from fasttext) (1.20.1)\n",
      "Requirement already satisfied: pybind11>=2.2 in c:\\users\\reach\\anaconda3\\lib\\site-packages (from fasttext) (2.7.1)\n",
      "Requirement already satisfied: setuptools>=0.7.0 in c:\\users\\reach\\anaconda3\\lib\\site-packages (from fasttext) (52.0.0.post20210125)\n",
      "Note: you may need to restart the kernel to use updated packages.\n"
     ]
    }
   ],
   "source": [
    "pip install fasttext"
   ]
  },
  {
   "cell_type": "code",
   "execution_count": 18,
   "metadata": {
    "id": "g83dP6ErmwgP"
   },
   "outputs": [],
   "source": [
    "import fasttext\n",
    "import csv\n"
   ]
  },
  {
   "cell_type": "code",
   "execution_count": 19,
   "metadata": {
    "colab": {
     "base_uri": "https://localhost:8080/",
     "height": 1000
    },
    "id": "bCbRknoZl-1b",
    "outputId": "ad048024-b95e-47b8-fe3a-a75d14c27a1f"
   },
   "outputs": [
    {
     "data": {
      "text/html": [
       "<div>\n",
       "<style scoped>\n",
       "    .dataframe tbody tr th:only-of-type {\n",
       "        vertical-align: middle;\n",
       "    }\n",
       "\n",
       "    .dataframe tbody tr th {\n",
       "        vertical-align: top;\n",
       "    }\n",
       "\n",
       "    .dataframe thead th {\n",
       "        text-align: right;\n",
       "    }\n",
       "</style>\n",
       "<table border=\"1\" class=\"dataframe\">\n",
       "  <thead>\n",
       "    <tr style=\"text-align: right;\">\n",
       "      <th></th>\n",
       "      <th>Date</th>\n",
       "      <th>Country</th>\n",
       "      <th>Local</th>\n",
       "      <th>Industry Sector</th>\n",
       "      <th>Accident Level</th>\n",
       "      <th>Potential Accident Level</th>\n",
       "      <th>Gender</th>\n",
       "      <th>Employee type</th>\n",
       "      <th>Critical Risk</th>\n",
       "      <th>Description</th>\n",
       "      <th>Year</th>\n",
       "      <th>Month</th>\n",
       "      <th>Day</th>\n",
       "      <th>Weekday</th>\n",
       "      <th>Quater</th>\n",
       "      <th>Accident Severity</th>\n",
       "      <th>Potential Severity</th>\n",
       "      <th>clean_Description</th>\n",
       "    </tr>\n",
       "  </thead>\n",
       "  <tbody>\n",
       "    <tr>\n",
       "      <th>0</th>\n",
       "      <td>2016-01-01</td>\n",
       "      <td>Country_01</td>\n",
       "      <td>1</td>\n",
       "      <td>Mining</td>\n",
       "      <td>1</td>\n",
       "      <td>4</td>\n",
       "      <td>Male</td>\n",
       "      <td>Third Party</td>\n",
       "      <td>Pressed</td>\n",
       "      <td>While removing the drill rod of the Jumbo 08 f...</td>\n",
       "      <td>2016</td>\n",
       "      <td>1</td>\n",
       "      <td>1</td>\n",
       "      <td>Friday</td>\n",
       "      <td>First</td>\n",
       "      <td>Low</td>\n",
       "      <td>High</td>\n",
       "      <td>While removing drill rod Jumbo 08 maintenance,...</td>\n",
       "    </tr>\n",
       "    <tr>\n",
       "      <th>1</th>\n",
       "      <td>2016-01-02</td>\n",
       "      <td>Country_02</td>\n",
       "      <td>2</td>\n",
       "      <td>Mining</td>\n",
       "      <td>1</td>\n",
       "      <td>4</td>\n",
       "      <td>Male</td>\n",
       "      <td>Employee</td>\n",
       "      <td>Pressurized Systems</td>\n",
       "      <td>During the activation of a sodium sulphide pum...</td>\n",
       "      <td>2016</td>\n",
       "      <td>1</td>\n",
       "      <td>2</td>\n",
       "      <td>Saturday</td>\n",
       "      <td>First</td>\n",
       "      <td>Low</td>\n",
       "      <td>High</td>\n",
       "      <td>During activation sodium sulphide pump, piping...</td>\n",
       "    </tr>\n",
       "    <tr>\n",
       "      <th>2</th>\n",
       "      <td>2016-01-06</td>\n",
       "      <td>Country_01</td>\n",
       "      <td>3</td>\n",
       "      <td>Mining</td>\n",
       "      <td>1</td>\n",
       "      <td>3</td>\n",
       "      <td>Male</td>\n",
       "      <td>Third Party (Remote)</td>\n",
       "      <td>Manual Tools</td>\n",
       "      <td>In the sub-station MILPO located at level +170...</td>\n",
       "      <td>2016</td>\n",
       "      <td>1</td>\n",
       "      <td>6</td>\n",
       "      <td>Wednesday</td>\n",
       "      <td>First</td>\n",
       "      <td>Low</td>\n",
       "      <td>Medium</td>\n",
       "      <td>In sub-station MILPO located level +170 collab...</td>\n",
       "    </tr>\n",
       "    <tr>\n",
       "      <th>3</th>\n",
       "      <td>2016-01-08</td>\n",
       "      <td>Country_01</td>\n",
       "      <td>4</td>\n",
       "      <td>Mining</td>\n",
       "      <td>1</td>\n",
       "      <td>1</td>\n",
       "      <td>Male</td>\n",
       "      <td>Third Party</td>\n",
       "      <td>Others</td>\n",
       "      <td>Being 9:45 am. approximately in the Nv. 1880 C...</td>\n",
       "      <td>2016</td>\n",
       "      <td>1</td>\n",
       "      <td>8</td>\n",
       "      <td>Friday</td>\n",
       "      <td>First</td>\n",
       "      <td>Low</td>\n",
       "      <td>Low</td>\n",
       "      <td>Being 9:45 am. approximately Nv. 1880 CX-695 O...</td>\n",
       "    </tr>\n",
       "    <tr>\n",
       "      <th>4</th>\n",
       "      <td>2016-01-10</td>\n",
       "      <td>Country_01</td>\n",
       "      <td>4</td>\n",
       "      <td>Mining</td>\n",
       "      <td>4</td>\n",
       "      <td>4</td>\n",
       "      <td>Male</td>\n",
       "      <td>Third Party</td>\n",
       "      <td>Others</td>\n",
       "      <td>Approximately at 11:45 a.m. in circumstances t...</td>\n",
       "      <td>2016</td>\n",
       "      <td>1</td>\n",
       "      <td>10</td>\n",
       "      <td>Sunday</td>\n",
       "      <td>First</td>\n",
       "      <td>High</td>\n",
       "      <td>High</td>\n",
       "      <td>Approximately 11:45 a.m. circumstances mechani...</td>\n",
       "    </tr>\n",
       "    <tr>\n",
       "      <th>5</th>\n",
       "      <td>2016-01-12</td>\n",
       "      <td>Country_02</td>\n",
       "      <td>5</td>\n",
       "      <td>Metals</td>\n",
       "      <td>1</td>\n",
       "      <td>3</td>\n",
       "      <td>Male</td>\n",
       "      <td>Third Party (Remote)</td>\n",
       "      <td>Pressurized Systems</td>\n",
       "      <td>During the unloading operation of the ustulado...</td>\n",
       "      <td>2016</td>\n",
       "      <td>1</td>\n",
       "      <td>12</td>\n",
       "      <td>Tuesday</td>\n",
       "      <td>First</td>\n",
       "      <td>Low</td>\n",
       "      <td>Medium</td>\n",
       "      <td>During unloading operation ustulado Bag need u...</td>\n",
       "    </tr>\n",
       "    <tr>\n",
       "      <th>6</th>\n",
       "      <td>2016-01-16</td>\n",
       "      <td>Country_02</td>\n",
       "      <td>5</td>\n",
       "      <td>Metals</td>\n",
       "      <td>1</td>\n",
       "      <td>3</td>\n",
       "      <td>Male</td>\n",
       "      <td>Employee</td>\n",
       "      <td>Fall prevention (same level)</td>\n",
       "      <td>The collaborator reports that he was on street...</td>\n",
       "      <td>2016</td>\n",
       "      <td>1</td>\n",
       "      <td>16</td>\n",
       "      <td>Saturday</td>\n",
       "      <td>First</td>\n",
       "      <td>Low</td>\n",
       "      <td>Medium</td>\n",
       "      <td>The collaborator reports street 09 holding lef...</td>\n",
       "    </tr>\n",
       "    <tr>\n",
       "      <th>7</th>\n",
       "      <td>2016-01-17</td>\n",
       "      <td>Country_01</td>\n",
       "      <td>4</td>\n",
       "      <td>Mining</td>\n",
       "      <td>1</td>\n",
       "      <td>3</td>\n",
       "      <td>Male</td>\n",
       "      <td>Third Party</td>\n",
       "      <td>Pressed</td>\n",
       "      <td>At approximately 04:50 p.m., when the mechanic...</td>\n",
       "      <td>2016</td>\n",
       "      <td>1</td>\n",
       "      <td>17</td>\n",
       "      <td>Sunday</td>\n",
       "      <td>First</td>\n",
       "      <td>Low</td>\n",
       "      <td>Medium</td>\n",
       "      <td>At approximately 04:50 p.m., mechanic technici...</td>\n",
       "    </tr>\n",
       "    <tr>\n",
       "      <th>8</th>\n",
       "      <td>2016-01-19</td>\n",
       "      <td>Country_02</td>\n",
       "      <td>2</td>\n",
       "      <td>Mining</td>\n",
       "      <td>1</td>\n",
       "      <td>4</td>\n",
       "      <td>Male</td>\n",
       "      <td>Third Party (Remote)</td>\n",
       "      <td>Others</td>\n",
       "      <td>Employee was sitting in the resting area at le...</td>\n",
       "      <td>2016</td>\n",
       "      <td>1</td>\n",
       "      <td>19</td>\n",
       "      <td>Tuesday</td>\n",
       "      <td>First</td>\n",
       "      <td>Low</td>\n",
       "      <td>High</td>\n",
       "      <td>Employee sitting resting area level 326 (raise...</td>\n",
       "    </tr>\n",
       "    <tr>\n",
       "      <th>9</th>\n",
       "      <td>2016-01-26</td>\n",
       "      <td>Country_01</td>\n",
       "      <td>6</td>\n",
       "      <td>Metals</td>\n",
       "      <td>1</td>\n",
       "      <td>2</td>\n",
       "      <td>Male</td>\n",
       "      <td>Third Party</td>\n",
       "      <td>Chemical substances</td>\n",
       "      <td>At the moment the forklift operator went to ma...</td>\n",
       "      <td>2016</td>\n",
       "      <td>1</td>\n",
       "      <td>26</td>\n",
       "      <td>Tuesday</td>\n",
       "      <td>First</td>\n",
       "      <td>Low</td>\n",
       "      <td>Low</td>\n",
       "      <td>At moment forklift operator went manipulate bi...</td>\n",
       "    </tr>\n",
       "  </tbody>\n",
       "</table>\n",
       "</div>"
      ],
      "text/plain": [
       "        Date     Country  Local Industry Sector  Accident Level  \\\n",
       "0 2016-01-01  Country_01      1          Mining               1   \n",
       "1 2016-01-02  Country_02      2          Mining               1   \n",
       "2 2016-01-06  Country_01      3          Mining               1   \n",
       "3 2016-01-08  Country_01      4          Mining               1   \n",
       "4 2016-01-10  Country_01      4          Mining               4   \n",
       "5 2016-01-12  Country_02      5          Metals               1   \n",
       "6 2016-01-16  Country_02      5          Metals               1   \n",
       "7 2016-01-17  Country_01      4          Mining               1   \n",
       "8 2016-01-19  Country_02      2          Mining               1   \n",
       "9 2016-01-26  Country_01      6          Metals               1   \n",
       "\n",
       "   Potential Accident Level Gender         Employee type  \\\n",
       "0                         4   Male           Third Party   \n",
       "1                         4   Male              Employee   \n",
       "2                         3   Male  Third Party (Remote)   \n",
       "3                         1   Male           Third Party   \n",
       "4                         4   Male           Third Party   \n",
       "5                         3   Male  Third Party (Remote)   \n",
       "6                         3   Male              Employee   \n",
       "7                         3   Male           Third Party   \n",
       "8                         4   Male  Third Party (Remote)   \n",
       "9                         2   Male           Third Party   \n",
       "\n",
       "                  Critical Risk  \\\n",
       "0                       Pressed   \n",
       "1           Pressurized Systems   \n",
       "2                  Manual Tools   \n",
       "3                        Others   \n",
       "4                        Others   \n",
       "5           Pressurized Systems   \n",
       "6  Fall prevention (same level)   \n",
       "7                       Pressed   \n",
       "8                        Others   \n",
       "9           Chemical substances   \n",
       "\n",
       "                                         Description  Year  Month  Day  \\\n",
       "0  While removing the drill rod of the Jumbo 08 f...  2016      1    1   \n",
       "1  During the activation of a sodium sulphide pum...  2016      1    2   \n",
       "2  In the sub-station MILPO located at level +170...  2016      1    6   \n",
       "3  Being 9:45 am. approximately in the Nv. 1880 C...  2016      1    8   \n",
       "4  Approximately at 11:45 a.m. in circumstances t...  2016      1   10   \n",
       "5  During the unloading operation of the ustulado...  2016      1   12   \n",
       "6  The collaborator reports that he was on street...  2016      1   16   \n",
       "7  At approximately 04:50 p.m., when the mechanic...  2016      1   17   \n",
       "8  Employee was sitting in the resting area at le...  2016      1   19   \n",
       "9  At the moment the forklift operator went to ma...  2016      1   26   \n",
       "\n",
       "     Weekday Quater Accident Severity Potential Severity  \\\n",
       "0     Friday  First               Low               High   \n",
       "1   Saturday  First               Low               High   \n",
       "2  Wednesday  First               Low             Medium   \n",
       "3     Friday  First               Low                Low   \n",
       "4     Sunday  First              High               High   \n",
       "5    Tuesday  First               Low             Medium   \n",
       "6   Saturday  First               Low             Medium   \n",
       "7     Sunday  First               Low             Medium   \n",
       "8    Tuesday  First               Low               High   \n",
       "9    Tuesday  First               Low                Low   \n",
       "\n",
       "                                   clean_Description  \n",
       "0  While removing drill rod Jumbo 08 maintenance,...  \n",
       "1  During activation sodium sulphide pump, piping...  \n",
       "2  In sub-station MILPO located level +170 collab...  \n",
       "3  Being 9:45 am. approximately Nv. 1880 CX-695 O...  \n",
       "4  Approximately 11:45 a.m. circumstances mechani...  \n",
       "5  During unloading operation ustulado Bag need u...  \n",
       "6  The collaborator reports street 09 holding lef...  \n",
       "7  At approximately 04:50 p.m., mechanic technici...  \n",
       "8  Employee sitting resting area level 326 (raise...  \n",
       "9  At moment forklift operator went manipulate bi...  "
      ]
     },
     "execution_count": 19,
     "metadata": {},
     "output_type": "execute_result"
    }
   ],
   "source": [
    "ds.head(10)"
   ]
  },
  {
   "cell_type": "code",
   "execution_count": 20,
   "metadata": {
    "colab": {
     "base_uri": "https://localhost:8080/",
     "height": 419
    },
    "id": "HjNtKNs7Ckzi",
    "outputId": "a6184114-9342-4a56-b366-570fcf05039c"
   },
   "outputs": [
    {
     "data": {
      "text/html": [
       "<div>\n",
       "<style scoped>\n",
       "    .dataframe tbody tr th:only-of-type {\n",
       "        vertical-align: middle;\n",
       "    }\n",
       "\n",
       "    .dataframe tbody tr th {\n",
       "        vertical-align: top;\n",
       "    }\n",
       "\n",
       "    .dataframe thead th {\n",
       "        text-align: right;\n",
       "    }\n",
       "</style>\n",
       "<table border=\"1\" class=\"dataframe\">\n",
       "  <thead>\n",
       "    <tr style=\"text-align: right;\">\n",
       "      <th></th>\n",
       "      <th>fasttext_data</th>\n",
       "    </tr>\n",
       "  </thead>\n",
       "  <tbody>\n",
       "    <tr>\n",
       "      <th>0</th>\n",
       "      <td>__label__4 While removing drill rod Jumbo 08 m...</td>\n",
       "    </tr>\n",
       "    <tr>\n",
       "      <th>1</th>\n",
       "      <td>__label__4 During activation sodium sulphide p...</td>\n",
       "    </tr>\n",
       "    <tr>\n",
       "      <th>2</th>\n",
       "      <td>__label__3 In sub-station MILPO located level ...</td>\n",
       "    </tr>\n",
       "    <tr>\n",
       "      <th>3</th>\n",
       "      <td>__label__1 Being 9:45 am. approximately Nv. 18...</td>\n",
       "    </tr>\n",
       "    <tr>\n",
       "      <th>4</th>\n",
       "      <td>__label__4 Approximately 11:45 a.m. circumstan...</td>\n",
       "    </tr>\n",
       "    <tr>\n",
       "      <th>...</th>\n",
       "      <td>...</td>\n",
       "    </tr>\n",
       "    <tr>\n",
       "      <th>420</th>\n",
       "      <td>__label__3 Being approximately 5:00 a.m. appro...</td>\n",
       "    </tr>\n",
       "    <tr>\n",
       "      <th>421</th>\n",
       "      <td>__label__2 The collaborator moved infrastructu...</td>\n",
       "    </tr>\n",
       "    <tr>\n",
       "      <th>422</th>\n",
       "      <td>__label__2 During environmental monitoring act...</td>\n",
       "    </tr>\n",
       "    <tr>\n",
       "      <th>423</th>\n",
       "      <td>__label__2 The Employee performed activity str...</td>\n",
       "    </tr>\n",
       "    <tr>\n",
       "      <th>424</th>\n",
       "      <td>__label__2 At 10:00 a.m., assistant cleaned fl...</td>\n",
       "    </tr>\n",
       "  </tbody>\n",
       "</table>\n",
       "<p>425 rows × 1 columns</p>\n",
       "</div>"
      ],
      "text/plain": [
       "                                         fasttext_data\n",
       "0    __label__4 While removing drill rod Jumbo 08 m...\n",
       "1    __label__4 During activation sodium sulphide p...\n",
       "2    __label__3 In sub-station MILPO located level ...\n",
       "3    __label__1 Being 9:45 am. approximately Nv. 18...\n",
       "4    __label__4 Approximately 11:45 a.m. circumstan...\n",
       "..                                                 ...\n",
       "420  __label__3 Being approximately 5:00 a.m. appro...\n",
       "421  __label__2 The collaborator moved infrastructu...\n",
       "422  __label__2 During environmental monitoring act...\n",
       "423  __label__2 The Employee performed activity str...\n",
       "424  __label__2 At 10:00 a.m., assistant cleaned fl...\n",
       "\n",
       "[425 rows x 1 columns]"
      ]
     },
     "execution_count": 20,
     "metadata": {},
     "output_type": "execute_result"
    }
   ],
   "source": [
    "\n",
    "ft_df_Potential = pd.DataFrame(columns=['fasttext_data'])\n",
    "ft_df_Accident = pd.DataFrame(columns=['fasttext_data'])\n",
    "\n",
    "ft_df_Potential['fasttext_data'] ='__label__' + ds['Potential Accident Level'].astype(str) + \" \"+ds['clean_Description']\n",
    "ft_df_Accident['fasttext_data'] ='__label__' + ds['Accident Level'].astype(str) + \" \"+ds['clean_Description']\n",
    "\n",
    "\n",
    "ft_df_Potential\n",
    "\n"
   ]
  },
  {
   "cell_type": "code",
   "execution_count": 21,
   "metadata": {
    "colab": {
     "base_uri": "https://localhost:8080/",
     "height": 419
    },
    "id": "XbG90ItrEwFV",
    "outputId": "67da68aa-7521-41c6-cff1-3a52a290d94e"
   },
   "outputs": [
    {
     "data": {
      "text/html": [
       "<div>\n",
       "<style scoped>\n",
       "    .dataframe tbody tr th:only-of-type {\n",
       "        vertical-align: middle;\n",
       "    }\n",
       "\n",
       "    .dataframe tbody tr th {\n",
       "        vertical-align: top;\n",
       "    }\n",
       "\n",
       "    .dataframe thead th {\n",
       "        text-align: right;\n",
       "    }\n",
       "</style>\n",
       "<table border=\"1\" class=\"dataframe\">\n",
       "  <thead>\n",
       "    <tr style=\"text-align: right;\">\n",
       "      <th></th>\n",
       "      <th>fasttext_data</th>\n",
       "    </tr>\n",
       "  </thead>\n",
       "  <tbody>\n",
       "    <tr>\n",
       "      <th>0</th>\n",
       "      <td>__label__1 While removing drill rod Jumbo 08 m...</td>\n",
       "    </tr>\n",
       "    <tr>\n",
       "      <th>1</th>\n",
       "      <td>__label__1 During activation sodium sulphide p...</td>\n",
       "    </tr>\n",
       "    <tr>\n",
       "      <th>2</th>\n",
       "      <td>__label__1 In sub-station MILPO located level ...</td>\n",
       "    </tr>\n",
       "    <tr>\n",
       "      <th>3</th>\n",
       "      <td>__label__1 Being 9:45 am. approximately Nv. 18...</td>\n",
       "    </tr>\n",
       "    <tr>\n",
       "      <th>4</th>\n",
       "      <td>__label__4 Approximately 11:45 a.m. circumstan...</td>\n",
       "    </tr>\n",
       "    <tr>\n",
       "      <th>...</th>\n",
       "      <td>...</td>\n",
       "    </tr>\n",
       "    <tr>\n",
       "      <th>420</th>\n",
       "      <td>__label__1 Being approximately 5:00 a.m. appro...</td>\n",
       "    </tr>\n",
       "    <tr>\n",
       "      <th>421</th>\n",
       "      <td>__label__1 The collaborator moved infrastructu...</td>\n",
       "    </tr>\n",
       "    <tr>\n",
       "      <th>422</th>\n",
       "      <td>__label__1 During environmental monitoring act...</td>\n",
       "    </tr>\n",
       "    <tr>\n",
       "      <th>423</th>\n",
       "      <td>__label__1 The Employee performed activity str...</td>\n",
       "    </tr>\n",
       "    <tr>\n",
       "      <th>424</th>\n",
       "      <td>__label__1 At 10:00 a.m., assistant cleaned fl...</td>\n",
       "    </tr>\n",
       "  </tbody>\n",
       "</table>\n",
       "<p>425 rows × 1 columns</p>\n",
       "</div>"
      ],
      "text/plain": [
       "                                         fasttext_data\n",
       "0    __label__1 While removing drill rod Jumbo 08 m...\n",
       "1    __label__1 During activation sodium sulphide p...\n",
       "2    __label__1 In sub-station MILPO located level ...\n",
       "3    __label__1 Being 9:45 am. approximately Nv. 18...\n",
       "4    __label__4 Approximately 11:45 a.m. circumstan...\n",
       "..                                                 ...\n",
       "420  __label__1 Being approximately 5:00 a.m. appro...\n",
       "421  __label__1 The collaborator moved infrastructu...\n",
       "422  __label__1 During environmental monitoring act...\n",
       "423  __label__1 The Employee performed activity str...\n",
       "424  __label__1 At 10:00 a.m., assistant cleaned fl...\n",
       "\n",
       "[425 rows x 1 columns]"
      ]
     },
     "execution_count": 21,
     "metadata": {},
     "output_type": "execute_result"
    }
   ],
   "source": [
    "ft_df_Accident"
   ]
  },
  {
   "cell_type": "code",
   "execution_count": 22,
   "metadata": {
    "id": "W0Iq2xkod47k"
   },
   "outputs": [],
   "source": [
    "#ft_df = ft_df[['poten_acc_level','description']]"
   ]
  },
  {
   "cell_type": "code",
   "execution_count": 23,
   "metadata": {
    "colab": {
     "base_uri": "https://localhost:8080/",
     "height": 359
    },
    "id": "XdCepCw7l3nM",
    "outputId": "3106dad1-2143-4253-bca3-cb0e38422175"
   },
   "outputs": [
    {
     "data": {
      "text/html": [
       "<div>\n",
       "<style scoped>\n",
       "    .dataframe tbody tr th:only-of-type {\n",
       "        vertical-align: middle;\n",
       "    }\n",
       "\n",
       "    .dataframe tbody tr th {\n",
       "        vertical-align: top;\n",
       "    }\n",
       "\n",
       "    .dataframe thead th {\n",
       "        text-align: right;\n",
       "    }\n",
       "</style>\n",
       "<table border=\"1\" class=\"dataframe\">\n",
       "  <thead>\n",
       "    <tr style=\"text-align: right;\">\n",
       "      <th></th>\n",
       "      <th>fasttext_data</th>\n",
       "    </tr>\n",
       "  </thead>\n",
       "  <tbody>\n",
       "    <tr>\n",
       "      <th>415</th>\n",
       "      <td>__label__2 Employee reports removing zinc shee...</td>\n",
       "    </tr>\n",
       "    <tr>\n",
       "      <th>416</th>\n",
       "      <td>__label__4 During execution task assembling bo...</td>\n",
       "    </tr>\n",
       "    <tr>\n",
       "      <th>417</th>\n",
       "      <td>__label__4 The technician returning activities...</td>\n",
       "    </tr>\n",
       "    <tr>\n",
       "      <th>418</th>\n",
       "      <td>__label__1 During field activity AMG project, ...</td>\n",
       "    </tr>\n",
       "    <tr>\n",
       "      <th>419</th>\n",
       "      <td>__label__3 After maintenance Boltec 03 level 2...</td>\n",
       "    </tr>\n",
       "    <tr>\n",
       "      <th>420</th>\n",
       "      <td>__label__3 Being approximately 5:00 a.m. appro...</td>\n",
       "    </tr>\n",
       "    <tr>\n",
       "      <th>421</th>\n",
       "      <td>__label__2 The collaborator moved infrastructu...</td>\n",
       "    </tr>\n",
       "    <tr>\n",
       "      <th>422</th>\n",
       "      <td>__label__2 During environmental monitoring act...</td>\n",
       "    </tr>\n",
       "    <tr>\n",
       "      <th>423</th>\n",
       "      <td>__label__2 The Employee performed activity str...</td>\n",
       "    </tr>\n",
       "    <tr>\n",
       "      <th>424</th>\n",
       "      <td>__label__2 At 10:00 a.m., assistant cleaned fl...</td>\n",
       "    </tr>\n",
       "  </tbody>\n",
       "</table>\n",
       "</div>"
      ],
      "text/plain": [
       "                                         fasttext_data\n",
       "415  __label__2 Employee reports removing zinc shee...\n",
       "416  __label__4 During execution task assembling bo...\n",
       "417  __label__4 The technician returning activities...\n",
       "418  __label__1 During field activity AMG project, ...\n",
       "419  __label__3 After maintenance Boltec 03 level 2...\n",
       "420  __label__3 Being approximately 5:00 a.m. appro...\n",
       "421  __label__2 The collaborator moved infrastructu...\n",
       "422  __label__2 During environmental monitoring act...\n",
       "423  __label__2 The Employee performed activity str...\n",
       "424  __label__2 At 10:00 a.m., assistant cleaned fl..."
      ]
     },
     "execution_count": 23,
     "metadata": {},
     "output_type": "execute_result"
    }
   ],
   "source": [
    "ft_df_Potential.tail(10)"
   ]
  },
  {
   "cell_type": "code",
   "execution_count": 24,
   "metadata": {
    "colab": {
     "base_uri": "https://localhost:8080/",
     "height": 359
    },
    "id": "cGCHv7pdFIdk",
    "outputId": "391d96e4-9bac-4b80-b91e-7ab02cb1ce86"
   },
   "outputs": [
    {
     "data": {
      "text/html": [
       "<div>\n",
       "<style scoped>\n",
       "    .dataframe tbody tr th:only-of-type {\n",
       "        vertical-align: middle;\n",
       "    }\n",
       "\n",
       "    .dataframe tbody tr th {\n",
       "        vertical-align: top;\n",
       "    }\n",
       "\n",
       "    .dataframe thead th {\n",
       "        text-align: right;\n",
       "    }\n",
       "</style>\n",
       "<table border=\"1\" class=\"dataframe\">\n",
       "  <thead>\n",
       "    <tr style=\"text-align: right;\">\n",
       "      <th></th>\n",
       "      <th>fasttext_data</th>\n",
       "    </tr>\n",
       "  </thead>\n",
       "  <tbody>\n",
       "    <tr>\n",
       "      <th>415</th>\n",
       "      <td>__label__1 Employee reports removing zinc shee...</td>\n",
       "    </tr>\n",
       "    <tr>\n",
       "      <th>416</th>\n",
       "      <td>__label__3 During execution task assembling bo...</td>\n",
       "    </tr>\n",
       "    <tr>\n",
       "      <th>417</th>\n",
       "      <td>__label__1 The technician returning activities...</td>\n",
       "    </tr>\n",
       "    <tr>\n",
       "      <th>418</th>\n",
       "      <td>__label__1 During field activity AMG project, ...</td>\n",
       "    </tr>\n",
       "    <tr>\n",
       "      <th>419</th>\n",
       "      <td>__label__1 After maintenance Boltec 03 level 2...</td>\n",
       "    </tr>\n",
       "    <tr>\n",
       "      <th>420</th>\n",
       "      <td>__label__1 Being approximately 5:00 a.m. appro...</td>\n",
       "    </tr>\n",
       "    <tr>\n",
       "      <th>421</th>\n",
       "      <td>__label__1 The collaborator moved infrastructu...</td>\n",
       "    </tr>\n",
       "    <tr>\n",
       "      <th>422</th>\n",
       "      <td>__label__1 During environmental monitoring act...</td>\n",
       "    </tr>\n",
       "    <tr>\n",
       "      <th>423</th>\n",
       "      <td>__label__1 The Employee performed activity str...</td>\n",
       "    </tr>\n",
       "    <tr>\n",
       "      <th>424</th>\n",
       "      <td>__label__1 At 10:00 a.m., assistant cleaned fl...</td>\n",
       "    </tr>\n",
       "  </tbody>\n",
       "</table>\n",
       "</div>"
      ],
      "text/plain": [
       "                                         fasttext_data\n",
       "415  __label__1 Employee reports removing zinc shee...\n",
       "416  __label__3 During execution task assembling bo...\n",
       "417  __label__1 The technician returning activities...\n",
       "418  __label__1 During field activity AMG project, ...\n",
       "419  __label__1 After maintenance Boltec 03 level 2...\n",
       "420  __label__1 Being approximately 5:00 a.m. appro...\n",
       "421  __label__1 The collaborator moved infrastructu...\n",
       "422  __label__1 During environmental monitoring act...\n",
       "423  __label__1 The Employee performed activity str...\n",
       "424  __label__1 At 10:00 a.m., assistant cleaned fl..."
      ]
     },
     "execution_count": 24,
     "metadata": {},
     "output_type": "execute_result"
    }
   ],
   "source": [
    "ft_df_Accident.tail(10)"
   ]
  },
  {
   "cell_type": "code",
   "execution_count": 25,
   "metadata": {
    "colab": {
     "base_uri": "https://localhost:8080/"
    },
    "id": "MS0jXkFhl38S",
    "outputId": "7a9e6ed2-40ae-4585-d880-7ee440d9e3ba"
   },
   "outputs": [
    {
     "name": "stdout",
     "output_type": "stream",
     "text": [
      "[WinError 3] The system cannot find the path specified: \"'/content/gdrive/My Drive/NLP_Capstone_Project/'\"\n",
      "C:\\Users\\reach\\OneDrive\\Great Learning\\rasa2\\Fasttext\n"
     ]
    }
   ],
   "source": [
    "\n",
    "%cd '/content/gdrive/My Drive/NLP_Capstone_Project/'\n",
    "\n",
    "\n",
    "ft_df_Potential.to_csv(r'fasttext_industrial_Potential.txt', index=False, sep=' ', header=False, quoting=csv.QUOTE_NONE, quotechar=\"\", escapechar=\" \")\n",
    "\n",
    "ft_df_Accident.to_csv(r'fasttext_industrial_Accident.txt', index=False, sep=' ', header=False, quoting=csv.QUOTE_NONE, quotechar=\"\", escapechar=\" \")\n",
    "\n",
    "\n",
    "\n"
   ]
  },
  {
   "cell_type": "code",
   "execution_count": 26,
   "metadata": {
    "colab": {
     "base_uri": "https://localhost:8080/"
    },
    "id": "PYTSDWHsl3_S",
    "outputId": "9ebffb0b-acec-42eb-d2b5-7dbc4ea40a2b"
   },
   "outputs": [
    {
     "name": "stdout",
     "output_type": "stream",
     "text": [
      "__label__4  While  removing  drill  rod  Jumbo  08  maintenance,  supervisor  proceeds  loosen  support  intermediate  centralizer  facilitate  removal,  seeing  mechanic  supports  one  end  drill  equipment  pull  hands  bar  accelerate  removal  this,  moment  bar  slides  point  support  tightens  fingers  mechanic  drilling  bar  beam  jumbo.\n",
      "__label__4  During  activation  sodium  sulphide  pump,  piping  uncoupled  sulfide  solution  designed  area  reach  maid.  Immediately  made  use  emergency  shower  directed  ambulatory  doctor  later  hospital.  Note:  sulphide  solution  =  48  grams  /  liter.\n",
      "__label__3  In  sub-station  MILPO  located  level  +170  collaborator  excavation  work  pick  (hand  tool),  hitting  rock  flat  part  beak,  bounces  hitting  steel  tip  safety  shoe  metatarsal  area  â€‹â€‹the  left  foot  collaborator  causing  injury.\n",
      "__label__1  Being  9:45  am.  approximately  Nv.  1880  CX-695  OB7,  personnel  begins  task  unlocking  Soquet  bolts  BHB  machine,  penultimate  bolt  identified  hexagonal  head  worn,  proceeding  Mr.  CristÃ³bal  -  Auxiliary  assistant  climb  platform  exert  pressure  hand  \"DADO\"  key,  prevent  coming  bolt;  moments  two  collaborators  rotate  lever  anti-clockwise  direction,  leaving  key  bolt,  hitting  palm  left  hand,  causing  injury.\n",
      "__label__4  Approximately  11:45  a.m.  circumstances  mechanics  Anthony  (group  leader),  Eduardo  Eric  FernÃ¡ndez-injured-the  three  Company  IMPROMEC,  performed  removal  pulley  motor  pump  3015  ZAF  Marcy.  27  cm  /  Length:  33  cm  /  Weight:  70  kg),  locked  proceed  heating  pulley  loosen  it,  comes  falls  distance  1.06  meters  high  hits  instep  right  foot  worker,  causing  injury  described.\n",
      "__label__3  During  unloading  operation  ustulado  Bag  need  unclog  discharge  mouth  silo  truck.  In  performing  procedure,  maneuver  unhooking  hose  without  total  depressurisation  mouth,  projecting  ustulado  powder  collaborator  caused  irritation  eyes.\n",
      "__label__3  The  collaborator  reports  street  09  holding  left  hand  volumetric  balloon,  slipped  placing  hand  ground  volumetric  balloon  ended  breaking  caused  small  wound  left  hand.\n",
      "__label__3  At  approximately  04:50  p.m.,  mechanic  technician  JosÃ©  Tecnomin  verified  transmission  belts  HM-100  pump  Acid  plant,  proceeded  turn  pulley  manually;  unexpectedly  instant  electrician  supervisor  Miguel  EKA  Mining  grabs  transmission  belts  verify  tension,  point  finger  traps.\n",
      "__label__4  Employee  sitting  resting  area  level  326  (raise  bore),  suffered  sudden  illness,  falling  suffering  excoriation  face.\n",
      "__label__2  At  moment  forklift  operator  went  manipulate  big  bag  bioxide  section  70  front  ladder  leads  area  â€‹â€‹manual  displacement,  splashed  spent  height  forehead  fissure  pipe  G  -069,  subsequently  spilling  left  eye.  The  collaborator  went  nearby  eyewash  cleaning  immediately  medical  center.\n"
     ]
    }
   ],
   "source": [
    "!head fasttext_industrial_Potential.txt"
   ]
  },
  {
   "cell_type": "code",
   "execution_count": 27,
   "metadata": {
    "colab": {
     "base_uri": "https://localhost:8080/"
    },
    "id": "QDMyaR8IIJQ0",
    "outputId": "dd7de37a-997f-46c4-c55f-0025b9f06f78"
   },
   "outputs": [
    {
     "name": "stdout",
     "output_type": "stream",
     "text": [
      "__label__1  While  removing  drill  rod  Jumbo  08  maintenance,  supervisor  proceeds  loosen  support  intermediate  centralizer  facilitate  removal,  seeing  mechanic  supports  one  end  drill  equipment  pull  hands  bar  accelerate  removal  this,  moment  bar  slides  point  support  tightens  fingers  mechanic  drilling  bar  beam  jumbo.\n",
      "__label__1  During  activation  sodium  sulphide  pump,  piping  uncoupled  sulfide  solution  designed  area  reach  maid.  Immediately  made  use  emergency  shower  directed  ambulatory  doctor  later  hospital.  Note:  sulphide  solution  =  48  grams  /  liter.\n",
      "__label__1  In  sub-station  MILPO  located  level  +170  collaborator  excavation  work  pick  (hand  tool),  hitting  rock  flat  part  beak,  bounces  hitting  steel  tip  safety  shoe  metatarsal  area  â€‹â€‹the  left  foot  collaborator  causing  injury.\n",
      "__label__1  Being  9:45  am.  approximately  Nv.  1880  CX-695  OB7,  personnel  begins  task  unlocking  Soquet  bolts  BHB  machine,  penultimate  bolt  identified  hexagonal  head  worn,  proceeding  Mr.  CristÃ³bal  -  Auxiliary  assistant  climb  platform  exert  pressure  hand  \"DADO\"  key,  prevent  coming  bolt;  moments  two  collaborators  rotate  lever  anti-clockwise  direction,  leaving  key  bolt,  hitting  palm  left  hand,  causing  injury.\n",
      "__label__4  Approximately  11:45  a.m.  circumstances  mechanics  Anthony  (group  leader),  Eduardo  Eric  FernÃ¡ndez-injured-the  three  Company  IMPROMEC,  performed  removal  pulley  motor  pump  3015  ZAF  Marcy.  27  cm  /  Length:  33  cm  /  Weight:  70  kg),  locked  proceed  heating  pulley  loosen  it,  comes  falls  distance  1.06  meters  high  hits  instep  right  foot  worker,  causing  injury  described.\n",
      "__label__1  During  unloading  operation  ustulado  Bag  need  unclog  discharge  mouth  silo  truck.  In  performing  procedure,  maneuver  unhooking  hose  without  total  depressurisation  mouth,  projecting  ustulado  powder  collaborator  caused  irritation  eyes.\n",
      "__label__1  The  collaborator  reports  street  09  holding  left  hand  volumetric  balloon,  slipped  placing  hand  ground  volumetric  balloon  ended  breaking  caused  small  wound  left  hand.\n",
      "__label__1  At  approximately  04:50  p.m.,  mechanic  technician  JosÃ©  Tecnomin  verified  transmission  belts  HM-100  pump  Acid  plant,  proceeded  turn  pulley  manually;  unexpectedly  instant  electrician  supervisor  Miguel  EKA  Mining  grabs  transmission  belts  verify  tension,  point  finger  traps.\n",
      "__label__1  Employee  sitting  resting  area  level  326  (raise  bore),  suffered  sudden  illness,  falling  suffering  excoriation  face.\n",
      "__label__1  At  moment  forklift  operator  went  manipulate  big  bag  bioxide  section  70  front  ladder  leads  area  â€‹â€‹manual  displacement,  splashed  spent  height  forehead  fissure  pipe  G  -069,  subsequently  spilling  left  eye.  The  collaborator  went  nearby  eyewash  cleaning  immediately  medical  center.\n"
     ]
    }
   ],
   "source": [
    "!head fasttext_industrial_Accident.txt"
   ]
  },
  {
   "cell_type": "code",
   "execution_count": 28,
   "metadata": {
    "colab": {
     "base_uri": "https://localhost:8080/"
    },
    "id": "bQSn2_i5l4Dl",
    "outputId": "250d5436-eccf-427d-9c7f-5110646a63dc"
   },
   "outputs": [
    {
     "name": "stdout",
     "output_type": "stream",
     "text": [
      "   425  16137 131453 fasttext_industrial_Potential.txt\n"
     ]
    }
   ],
   "source": [
    "!wc fasttext_industrial_Potential.txt\n"
   ]
  },
  {
   "cell_type": "code",
   "execution_count": 29,
   "metadata": {
    "colab": {
     "base_uri": "https://localhost:8080/"
    },
    "id": "iVnQCm4WKQPN",
    "outputId": "fa5356c1-5d31-4da2-f2a2-ad1c81ee3356"
   },
   "outputs": [
    {
     "name": "stdout",
     "output_type": "stream",
     "text": [
      "[WinError 3] The system cannot find the path specified: \"'/content/gdrive/My Drive/NLP_Capstone_Project/'\"\n",
      "C:\\Users\\reach\\OneDrive\\Great Learning\\rasa2\\Fasttext\n"
     ]
    }
   ],
   "source": [
    "!head -n 340 fasttext_industrial_Potential.txt > ft_ind_Potential.train\n",
    "!tail -n 85 fasttext_industrial_Potential.txt > ft_ind_Potential.valid"
   ]
  },
  {
   "cell_type": "code",
   "execution_count": 30,
   "metadata": {
    "colab": {
     "base_uri": "https://localhost:8080/"
    },
    "id": "nP26yrDBJz66",
    "outputId": "1f8cd028-a529-417f-d029-0f64db3c8b56"
   },
   "outputs": [
    {
     "name": "stdout",
     "output_type": "stream",
     "text": [
      "   425  16137 131453 fasttext_industrial_Accident.txt\n"
     ]
    }
   ],
   "source": [
    "!wc fasttext_industrial_Accident.txt"
   ]
  },
  {
   "cell_type": "code",
   "execution_count": 32,
   "metadata": {
    "colab": {
     "base_uri": "https://localhost:8080/"
    },
    "id": "pP7EUcd4KQBp",
    "outputId": "5486ff1a-1794-4782-a1d6-d42e638969ef"
   },
   "outputs": [],
   "source": [
    "!head -n 340 fasttext_industrial_Accident.txt > ft_ind_Accident.train\n",
    "!tail -n 85 fasttext_industrial_Accident.txt > ft_ind_Accident.valid"
   ]
  },
  {
   "cell_type": "code",
   "execution_count": 33,
   "metadata": {
    "id": "bWt-s-osl4HV"
   },
   "outputs": [],
   "source": [
    "#fasttext supervised -input fasttext_industrial_data.train -output model_ind_preventive\n",
    "#fasttext supervised -input ft_ind_data.train -output ft_model\n",
    "\n",
    "ft_model_Potential = fasttext.train_supervised(input=\"ft_ind_Potential.train\")\n"
   ]
  },
  {
   "cell_type": "code",
   "execution_count": 34,
   "metadata": {
    "id": "ibDRY4guKP3B"
   },
   "outputs": [],
   "source": [
    "ft_model_Accident = fasttext.train_supervised(input=\"ft_ind_Accident.train\")"
   ]
  },
  {
   "cell_type": "code",
   "execution_count": 35,
   "metadata": {
    "id": "eQcvfb6GVksM"
   },
   "outputs": [],
   "source": [
    "ft_model_Potential.save_model(\"ft_model_Potential.bin\")"
   ]
  },
  {
   "cell_type": "code",
   "execution_count": 36,
   "metadata": {
    "id": "HJ6Nw65_KPto"
   },
   "outputs": [],
   "source": [
    "ft_model_Accident.save_model(\"ft_model_Accident.bin\")"
   ]
  },
  {
   "cell_type": "code",
   "execution_count": 37,
   "metadata": {
    "colab": {
     "base_uri": "https://localhost:8080/"
    },
    "id": "3tG7ix5diix5",
    "outputId": "8006106d-f811-44ba-9c0d-6aac6582ea68"
   },
   "outputs": [
    {
     "data": {
      "text/plain": [
       "(('__label__4',), array([0.16717224]))"
      ]
     },
     "execution_count": 37,
     "metadata": {},
     "output_type": "execute_result"
    }
   ],
   "source": [
    "ft_model_Potential.predict(\"accident\")"
   ]
  },
  {
   "cell_type": "code",
   "execution_count": 38,
   "metadata": {
    "colab": {
     "base_uri": "https://localhost:8080/"
    },
    "id": "7t7MYH-zMYFM",
    "outputId": "b295adf2-dabd-472d-b423-51192aafc17f"
   },
   "outputs": [
    {
     "data": {
      "text/plain": [
       "(('__label__1',), array([0.21756352]))"
      ]
     },
     "execution_count": 38,
     "metadata": {},
     "output_type": "execute_result"
    }
   ],
   "source": [
    "ft_model_Accident.predict(\"accident\")"
   ]
  },
  {
   "cell_type": "code",
   "execution_count": 39,
   "metadata": {
    "colab": {
     "base_uri": "https://localhost:8080/"
    },
    "id": "m2ChDd-NjIUv",
    "outputId": "862dcc06-ffe0-4632-91e9-9202064b5678"
   },
   "outputs": [
    {
     "data": {
      "text/plain": [
       "(('__label__4',), array([0.16678782]))"
      ]
     },
     "execution_count": 39,
     "metadata": {},
     "output_type": "execute_result"
    }
   ],
   "source": [
    "ft_model_Potential.predict(\"At 14:16, the operator Samuel was about to open the container for its subsequent loading with silver concentrate,\")"
   ]
  },
  {
   "cell_type": "code",
   "execution_count": 40,
   "metadata": {
    "colab": {
     "base_uri": "https://localhost:8080/"
    },
    "id": "s-hbKYhMMfyg",
    "outputId": "5f59f7d2-a57b-4634-ab25-8059934d88b0"
   },
   "outputs": [
    {
     "data": {
      "text/plain": [
       "(('__label__1',), array([0.20415291]))"
      ]
     },
     "execution_count": 40,
     "metadata": {},
     "output_type": "execute_result"
    }
   ],
   "source": [
    "ft_model_Accident.predict(\"At 14:16, the operator Samuel was about to open the container for its subsequent loading with silver concentrate,\")"
   ]
  },
  {
   "cell_type": "code",
   "execution_count": 41,
   "metadata": {
    "colab": {
     "base_uri": "https://localhost:8080/"
    },
    "id": "fWqYVU3R0_Hs",
    "outputId": "8e3a214d-f178-4da2-dddb-265dfa99ce36"
   },
   "outputs": [
    {
     "data": {
      "text/plain": [
       "(('__label__4',), array([0.16677716]))"
      ]
     },
     "execution_count": 41,
     "metadata": {},
     "output_type": "execute_result"
    }
   ],
   "source": [
    "ft_model_Potential.predict(\"operator of the G-2142 deslaminadora in section 75 was unlocking a sheet of zinc stuck\")\n"
   ]
  },
  {
   "cell_type": "code",
   "execution_count": 42,
   "metadata": {
    "colab": {
     "base_uri": "https://localhost:8080/"
    },
    "id": "kob5zcqJKPjq",
    "outputId": "d76d0546-ef49-4e0b-d53e-fd4ad3eb3c01"
   },
   "outputs": [
    {
     "data": {
      "text/plain": [
       "(('__label__1',), array([0.20362221]))"
      ]
     },
     "execution_count": 42,
     "metadata": {},
     "output_type": "execute_result"
    }
   ],
   "source": [
    "ft_model_Accident.predict(\"operator of the G-2142 deslaminadora in section 75 was unlocking a sheet of zinc stuck\")"
   ]
  },
  {
   "cell_type": "code",
   "execution_count": 43,
   "metadata": {
    "colab": {
     "base_uri": "https://localhost:8080/"
    },
    "id": "GqXntQic2Oc0",
    "outputId": "1c15e9e2-9aa9-4f69-8194-b07aef291b49"
   },
   "outputs": [
    {
     "data": {
      "text/plain": [
       "(85, 0.32941176470588235, 0.32941176470588235)"
      ]
     },
     "execution_count": 43,
     "metadata": {},
     "output_type": "execute_result"
    }
   ],
   "source": [
    "ft_model_Potential.test(\"ft_ind_Potential.valid\")"
   ]
  },
  {
   "cell_type": "code",
   "execution_count": 44,
   "metadata": {
    "colab": {
     "base_uri": "https://localhost:8080/"
    },
    "id": "cKxt-OzEKPVj",
    "outputId": "6ea11d47-dffe-4361-dae1-8d978f15c954"
   },
   "outputs": [
    {
     "data": {
      "text/plain": [
       "(85, 0.7411764705882353, 0.7411764705882353)"
      ]
     },
     "execution_count": 44,
     "metadata": {},
     "output_type": "execute_result"
    }
   ],
   "source": [
    "ft_model_Accident.test(\"ft_ind_Accident.valid\")"
   ]
  },
  {
   "cell_type": "code",
   "execution_count": 45,
   "metadata": {
    "id": "XyJX0e_f2ofj"
   },
   "outputs": [],
   "source": [
    "#ft_model.test(\"ft_ind_data.valid\", k=5)"
   ]
  },
  {
   "cell_type": "code",
   "execution_count": 46,
   "metadata": {
    "colab": {
     "base_uri": "https://localhost:8080/"
    },
    "id": "qf1I7foG3IjX",
    "outputId": "edebee87-3bd0-4864-f865-59d2e49f4913"
   },
   "outputs": [
    {
     "data": {
      "text/plain": [
       "(('__label__4', '__label__3', '__label__2', '__label__1', '__label__5'),\n",
       " array([0.16699705, 0.16694674, 0.1668057 , 0.166495  , 0.16645721]))"
      ]
     },
     "execution_count": 46,
     "metadata": {},
     "output_type": "execute_result"
    }
   ],
   "source": [
    "ft_model_Potential.predict(\"operator of the G-2142\", k=5)"
   ]
  },
  {
   "cell_type": "code",
   "execution_count": 47,
   "metadata": {
    "colab": {
     "base_uri": "https://localhost:8080/"
    },
    "id": "3FiH8TyJxhiX",
    "outputId": "aac987ea-a2d4-44b1-916f-b9570d537aae"
   },
   "outputs": [
    {
     "data": {
      "text/plain": [
       "(('__label__1', '__label__2', '__label__3', '__label__4', '__label__5'),\n",
       " array([0.2124192 , 0.19779292, 0.19710954, 0.196861  , 0.1958673 ]))"
      ]
     },
     "execution_count": 47,
     "metadata": {},
     "output_type": "execute_result"
    }
   ],
   "source": [
    "ft_model_Accident.predict(\"operator of the G-2142\", k=5)"
   ]
  },
  {
   "cell_type": "code",
   "execution_count": 48,
   "metadata": {
    "id": "eSxoxweV3o7w"
   },
   "outputs": [],
   "source": [
    "#type fasttext_industrial_Potential.txt | sed -e \"s/\\([.\\!?,'/()]\\)/ \\1 /g\" | tr \"[:upper:]\" \"[:lower:]\" > fasttext_ind_prepro_Potential.txt"
   ]
  },
  {
   "cell_type": "code",
   "execution_count": 49,
   "metadata": {
    "id": "SBdSE6WIjHe0"
   },
   "outputs": [],
   "source": [
    "!head -n 340 fasttext_industrial_Potential.txt > ft_ind_Potential.train\n",
    "!tail -n 85 fasttext_industrial_Potential.txt > ft_ind_Potential.valid"
   ]
  },
  {
   "cell_type": "code",
   "execution_count": 50,
   "metadata": {
    "id": "9vIfcf1DP6Cu"
   },
   "outputs": [],
   "source": [
    "!head -n 340 fasttext_industrial_Accident.txt > ft_ind_Accident.train\n",
    "!tail -n 85 fasttext_industrial_Accident.txt > ft_ind_Accident.valid"
   ]
  },
  {
   "cell_type": "code",
   "execution_count": 51,
   "metadata": {
    "id": "y6Cyr4jgjoib"
   },
   "outputs": [],
   "source": [
    "ft_model_Potential = fasttext.train_supervised(input=\"ft_ind_Potential.train\")\n",
    "ft_model_Accident = fasttext.train_supervised(input=\"ft_ind_Accident.train\")\n"
   ]
  },
  {
   "cell_type": "code",
   "execution_count": 52,
   "metadata": {
    "colab": {
     "base_uri": "https://localhost:8080/"
    },
    "id": "ikzINtO9jofL",
    "outputId": "86dc843c-9ba2-4920-a9d0-d854ea275c00"
   },
   "outputs": [
    {
     "data": {
      "text/plain": [
       "(85, 0.32941176470588235, 0.32941176470588235)"
      ]
     },
     "execution_count": 52,
     "metadata": {},
     "output_type": "execute_result"
    }
   ],
   "source": [
    "ft_model_Potential.test(\"ft_ind_Potential.valid\")\n"
   ]
  },
  {
   "cell_type": "code",
   "execution_count": 53,
   "metadata": {
    "colab": {
     "base_uri": "https://localhost:8080/"
    },
    "id": "BfOpbTEaQv4t",
    "outputId": "d27f6b78-7892-41df-a945-90d4ccf55f8b"
   },
   "outputs": [
    {
     "data": {
      "text/plain": [
       "(85, 0.7411764705882353, 0.7411764705882353)"
      ]
     },
     "execution_count": 53,
     "metadata": {},
     "output_type": "execute_result"
    }
   ],
   "source": [
    "ft_model_Accident.test(\"ft_ind_Accident.valid\")"
   ]
  },
  {
   "cell_type": "markdown",
   "metadata": {
    "id": "Szx7BkD8Wjy7"
   },
   "source": [
    "## **With Hyper parameters tuning with below code such as EPOC,Learnign Rate,Word_grams, hierarchical softmax and Multi label(just tried)**"
   ]
  },
  {
   "cell_type": "code",
   "execution_count": 54,
   "metadata": {
    "id": "LNtykRZQjoVQ"
   },
   "outputs": [],
   "source": [
    "ft_model_Potential = fasttext.train_supervised(input=\"ft_ind_Potential.train\", lr=0.9)"
   ]
  },
  {
   "cell_type": "code",
   "execution_count": 55,
   "metadata": {
    "id": "MFANsSjNQu4W"
   },
   "outputs": [],
   "source": [
    "ft_model_Accident = fasttext.train_supervised(input=\"ft_ind_Accident.train\", lr=0.9)"
   ]
  },
  {
   "cell_type": "code",
   "execution_count": 56,
   "metadata": {
    "colab": {
     "base_uri": "https://localhost:8080/"
    },
    "id": "eAbtvLvKjoFN",
    "outputId": "a1df0ea0-db48-4631-be50-5b34d9b852e6"
   },
   "outputs": [
    {
     "data": {
      "text/plain": [
       "(85, 0.29411764705882354, 0.29411764705882354)"
      ]
     },
     "execution_count": 56,
     "metadata": {},
     "output_type": "execute_result"
    }
   ],
   "source": [
    "ft_model_Potential.test(\"ft_ind_Potential.valid\")"
   ]
  },
  {
   "cell_type": "code",
   "execution_count": 57,
   "metadata": {
    "colab": {
     "base_uri": "https://localhost:8080/"
    },
    "id": "2Kq_frppRU-w",
    "outputId": "fbe6a55e-1058-4430-bba4-908c1c1d9aa5"
   },
   "outputs": [
    {
     "data": {
      "text/plain": [
       "(85, 0.7411764705882353, 0.7411764705882353)"
      ]
     },
     "execution_count": 57,
     "metadata": {},
     "output_type": "execute_result"
    }
   ],
   "source": [
    "ft_model_Accident.test(\"ft_ind_Accident.valid\")"
   ]
  },
  {
   "cell_type": "code",
   "execution_count": 58,
   "metadata": {
    "id": "GIzBhCWCkwcT"
   },
   "outputs": [],
   "source": [
    "#With both Lr and EPOC combined\n",
    "ft_model_Potential = fasttext.train_supervised(input=\"ft_ind_Potential.train\", lr=0.9, epoch=25)"
   ]
  },
  {
   "cell_type": "code",
   "execution_count": 59,
   "metadata": {
    "id": "PzsVzZdNRnVS"
   },
   "outputs": [],
   "source": [
    "ft_model_Accident = fasttext.train_supervised(input=\"ft_ind_Accident.train\", lr=0.9, epoch=25)"
   ]
  },
  {
   "cell_type": "code",
   "execution_count": 60,
   "metadata": {
    "colab": {
     "base_uri": "https://localhost:8080/"
    },
    "id": "JnfGSp_4k6nG",
    "outputId": "730ca915-4aeb-47f0-a7d9-a9b8ae7b68ad"
   },
   "outputs": [
    {
     "data": {
      "text/plain": [
       "(85, 0.4117647058823529, 0.4117647058823529)"
      ]
     },
     "execution_count": 60,
     "metadata": {},
     "output_type": "execute_result"
    }
   ],
   "source": [
    "ft_model_Potential.test(\"ft_ind_Potential.valid\")"
   ]
  },
  {
   "cell_type": "code",
   "execution_count": 61,
   "metadata": {
    "colab": {
     "base_uri": "https://localhost:8080/"
    },
    "id": "67pWM01TR74l",
    "outputId": "d83fb222-c255-4625-8fa8-a962194ed8d0"
   },
   "outputs": [
    {
     "data": {
      "text/plain": [
       "(85, 0.7176470588235294, 0.7176470588235294)"
      ]
     },
     "execution_count": 61,
     "metadata": {},
     "output_type": "execute_result"
    }
   ],
   "source": [
    "ft_model_Accident.test(\"ft_ind_Accident.valid\")"
   ]
  },
  {
   "cell_type": "code",
   "execution_count": 62,
   "metadata": {
    "id": "U5h8s4-fk-tQ"
   },
   "outputs": [],
   "source": [
    "#With WordNGrams\n",
    "ft_model_Potential = fasttext.train_supervised(input=\"ft_ind_Potential.train\", lr=0.8, epoch=25, wordNgrams=2)\n",
    "ft_model_Accident = fasttext.train_supervised(input=\"ft_ind_Accident.train\", lr=0.8, epoch=25, wordNgrams=2)"
   ]
  },
  {
   "cell_type": "code",
   "execution_count": 63,
   "metadata": {
    "colab": {
     "base_uri": "https://localhost:8080/"
    },
    "id": "f7JTNNlxlUPb",
    "outputId": "fd5b1496-b805-4f26-ca57-7032d94e2522"
   },
   "outputs": [
    {
     "data": {
      "text/plain": [
       "(85, 0.3764705882352941, 0.3764705882352941)"
      ]
     },
     "execution_count": 63,
     "metadata": {},
     "output_type": "execute_result"
    }
   ],
   "source": [
    "ft_model_Potential.test(\"ft_ind_Potential.valid\")"
   ]
  },
  {
   "cell_type": "code",
   "execution_count": 64,
   "metadata": {
    "colab": {
     "base_uri": "https://localhost:8080/"
    },
    "id": "dD2YN93ZSa6z",
    "outputId": "c70bb022-6554-45bd-e37e-699b3337cb5e"
   },
   "outputs": [
    {
     "data": {
      "text/plain": [
       "(85, 0.7176470588235294, 0.7176470588235294)"
      ]
     },
     "execution_count": 64,
     "metadata": {},
     "output_type": "execute_result"
    }
   ],
   "source": [
    "ft_model_Accident.test(\"ft_ind_Accident.valid\")"
   ]
  },
  {
   "cell_type": "code",
   "execution_count": 65,
   "metadata": {
    "id": "meFeJuPolX4p"
   },
   "outputs": [],
   "source": [
    "# With hierarchical softmax\n",
    "ft_model_Potential = fasttext.train_supervised(input=\"ft_ind_Potential.train\", lr=0.7, epoch=25, wordNgrams=2, bucket=200000, dim=50, loss='hs')\n",
    "ft_model_Accident = fasttext.train_supervised(input=\"ft_ind_Accident.train\", lr=0.7, epoch=25, wordNgrams=2, bucket=200000, dim=50, loss='hs')\n"
   ]
  },
  {
   "cell_type": "code",
   "execution_count": 66,
   "metadata": {
    "colab": {
     "base_uri": "https://localhost:8080/"
    },
    "id": "2_6VYQ_sl-gx",
    "outputId": "e24d3d9e-bacf-4790-f71a-8f487aad0009"
   },
   "outputs": [
    {
     "data": {
      "text/plain": [
       "(85, 0.2823529411764706, 0.2823529411764706)"
      ]
     },
     "execution_count": 66,
     "metadata": {},
     "output_type": "execute_result"
    }
   ],
   "source": [
    "ft_model_Potential.test(\"ft_ind_Potential.valid\")"
   ]
  },
  {
   "cell_type": "code",
   "execution_count": 67,
   "metadata": {
    "colab": {
     "base_uri": "https://localhost:8080/"
    },
    "id": "o7blIeI4S-Nv",
    "outputId": "5eab3d71-3262-4857-e924-1383a6c7a67a"
   },
   "outputs": [
    {
     "data": {
      "text/plain": [
       "(85, 0.7294117647058823, 0.7294117647058823)"
      ]
     },
     "execution_count": 67,
     "metadata": {},
     "output_type": "execute_result"
    }
   ],
   "source": [
    "ft_model_Accident.test(\"ft_ind_Accident.valid\")"
   ]
  },
  {
   "cell_type": "code",
   "execution_count": 68,
   "metadata": {
    "id": "xg0QXLJwmYyc"
   },
   "outputs": [],
   "source": [
    "# Juat tried with Multi labels too\n",
    "ft_model_Potential = fasttext.train_supervised(input=\"ft_ind_Potential.train\", lr=0.5, epoch=25, wordNgrams=2, bucket=200000, dim=50, loss='ova')\n",
    "ft_model_Accident = fasttext.train_supervised(input=\"ft_ind_Accident.train\", lr=0.5, epoch=25, wordNgrams=2, bucket=200000, dim=50, loss='ova')\n"
   ]
  },
  {
   "cell_type": "code",
   "execution_count": 69,
   "metadata": {
    "colab": {
     "base_uri": "https://localhost:8080/"
    },
    "id": "scKAo9JZvnvc",
    "outputId": "b3cf8ac1-60f0-4596-c0f1-f265b8926c16"
   },
   "outputs": [
    {
     "data": {
      "text/plain": [
       "(85, 0.35294117647058826, 0.35294117647058826)"
      ]
     },
     "execution_count": 69,
     "metadata": {},
     "output_type": "execute_result"
    }
   ],
   "source": [
    "ft_model_Potential.test(\"ft_ind_Potential.valid\")"
   ]
  },
  {
   "cell_type": "code",
   "execution_count": 70,
   "metadata": {
    "colab": {
     "base_uri": "https://localhost:8080/"
    },
    "id": "Me-VcRIDTdAu",
    "outputId": "86c0b5f4-471e-4d40-df6e-b38511fa4418"
   },
   "outputs": [
    {
     "data": {
      "text/plain": [
       "(85, 0.7411764705882353, 0.7411764705882353)"
      ]
     },
     "execution_count": 70,
     "metadata": {},
     "output_type": "execute_result"
    }
   ],
   "source": [
    "ft_model_Accident.test(\"ft_ind_Accident.valid\")"
   ]
  },
  {
   "cell_type": "code",
   "execution_count": 71,
   "metadata": {
    "colab": {
     "base_uri": "https://localhost:8080/"
    },
    "id": "Rs54oi8FvqSp",
    "outputId": "9f17e21f-ee15-498d-c349-fe581bc3a3d5"
   },
   "outputs": [
    {
     "data": {
      "text/plain": [
       "(('__label__3',), array([0.59267658]))"
      ]
     },
     "execution_count": 71,
     "metadata": {},
     "output_type": "execute_result"
    }
   ],
   "source": [
    "ft_model_Potential.predict(\"When using the griff wrench to unscrew the rod from the probe the key came to move by pressing the employee's leg against the probe. \", k=-1, threshold=0.5)"
   ]
  },
  {
   "cell_type": "code",
   "execution_count": 72,
   "metadata": {
    "colab": {
     "base_uri": "https://localhost:8080/"
    },
    "id": "BrnGzeaLVM4x",
    "outputId": "37f9ec66-8659-4fe2-f1fe-ce14073178a5"
   },
   "outputs": [
    {
     "data": {
      "text/plain": [
       "(('__label__1',), array([0.78794122]))"
      ]
     },
     "execution_count": 72,
     "metadata": {},
     "output_type": "execute_result"
    }
   ],
   "source": [
    "ft_model_Accident.predict(\"When using the griff wrench to unscrew the rod from the probe\", k=-1, threshold=0.5)"
   ]
  },
  {
   "cell_type": "code",
   "execution_count": 73,
   "metadata": {
    "colab": {
     "base_uri": "https://localhost:8080/"
    },
    "id": "ml2O_Y0UwVVJ",
    "outputId": "4782e1a1-b4e3-4ea3-f27b-bcecc8400636"
   },
   "outputs": [
    {
     "data": {
      "text/plain": [
       "(85, 0.35294117647058826, 0.35294117647058826)"
      ]
     },
     "execution_count": 73,
     "metadata": {},
     "output_type": "execute_result"
    }
   ],
   "source": [
    "ft_model_Potential.test(\"ft_ind_Potential.valid\")"
   ]
  },
  {
   "cell_type": "code",
   "execution_count": 74,
   "metadata": {
    "colab": {
     "base_uri": "https://localhost:8080/"
    },
    "id": "XNBVsKGLV71I",
    "outputId": "3317fe7d-f393-48c7-e937-67ed2da854a6"
   },
   "outputs": [
    {
     "data": {
      "text/plain": [
       "(85, 0.7411764705882353, 0.7411764705882353)"
      ]
     },
     "execution_count": 74,
     "metadata": {},
     "output_type": "execute_result"
    }
   ],
   "source": [
    "ft_model_Accident.test(\"ft_ind_Accident.valid\")"
   ]
  },
  {
   "cell_type": "code",
   "execution_count": 75,
   "metadata": {},
   "outputs": [],
   "source": [
    "description = ft_model_Accident.predict(\"When using the griff wrench to unscrew the rod from the probe\", k=-1, threshold=0.5)"
   ]
  },
  {
   "cell_type": "code",
   "execution_count": 84,
   "metadata": {},
   "outputs": [
    {
     "name": "stdout",
     "output_type": "stream",
     "text": [
      "('__label__1',)\n"
     ]
    }
   ],
   "source": [
    "print (description[0])"
   ]
  },
  {
   "cell_type": "code",
   "execution_count": 85,
   "metadata": {},
   "outputs": [
    {
     "name": "stdout",
     "output_type": "stream",
     "text": [
      "description\n"
     ]
    }
   ],
   "source": [
    "print('description')"
   ]
  },
  {
   "cell_type": "code",
   "execution_count": null,
   "metadata": {
    "id": "BH1kX6A_w_Nr"
   },
   "outputs": [
    {
     "name": "stdout",
     "output_type": "stream",
     "text": [
      " * Serving Flask app \"__main__\" (lazy loading)\n",
      " * Environment: production\n",
      "   WARNING: This is a development server. Do not use it in a production deployment.\n",
      "   Use a production WSGI server instead.\n",
      " * Debug mode: off\n"
     ]
    },
    {
     "name": "stderr",
     "output_type": "stream",
     "text": [
      " * Running on http://127.0.0.1:5000/ (Press CTRL+C to quit)\n"
     ]
    }
   ],
   "source": [
    "from flask import Flask,request,jsonify,render_template\n",
    "\n",
    "\n",
    "\n",
    "app = Flask(__name__) # ,static_url_path='/'\n",
    "\n",
    "#@app.route('/hello')\n",
    "#def index():\n",
    "#    return render_template('index.html',name='John')  #{'hello': 'world'} \n",
    "\n",
    "\n",
    "@app.route('/get_p_acc_lvl', methods=['GET'])\n",
    "def get_potential_accident_level():\n",
    "    \n",
    "    query_parameters = request.args\n",
    "    \n",
    "    acc_desc = query_parameters.get('description')\n",
    "    \n",
    "    print (pred1)\n",
    "    pred1 = ft_model_Accident.predict(acc_desc, k=-1, threshold=0.5)\n",
    "    \n",
    "    print (pred1[0])\n",
    "    prediction = pred1[0] #ft.predict('acc_desc')\n",
    "    \n",
    "    return jsonify(prediction)\n",
    "\n",
    "\n",
    "\n",
    "\n",
    "if __name__ == '__main__':\n",
    "  \n",
    "    app.run()"
   ]
  },
  {
   "cell_type": "code",
   "execution_count": null,
   "metadata": {},
   "outputs": [],
   "source": []
  },
  {
   "cell_type": "code",
   "execution_count": null,
   "metadata": {},
   "outputs": [],
   "source": []
  }
 ],
 "metadata": {
  "colab": {
   "collapsed_sections": [],
   "name": "FastText_based Industrial_safetybot.ipynb",
   "provenance": []
  },
  "kernelspec": {
   "display_name": "Python 3",
   "language": "python",
   "name": "python3"
  },
  "language_info": {
   "codemirror_mode": {
    "name": "ipython",
    "version": 3
   },
   "file_extension": ".py",
   "mimetype": "text/x-python",
   "name": "python",
   "nbconvert_exporter": "python",
   "pygments_lexer": "ipython3",
   "version": "3.8.8"
  }
 },
 "nbformat": 4,
 "nbformat_minor": 1
}
