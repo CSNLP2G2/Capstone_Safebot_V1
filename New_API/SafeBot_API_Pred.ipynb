{
 "cells": [
  {
   "cell_type": "code",
   "execution_count": 24,
   "id": "fcce4c37",
   "metadata": {},
   "outputs": [
    {
     "name": "stdout",
     "output_type": "stream",
     "text": [
      "Requirement already satisfied: Cython in c:\\users\\reach\\anaconda3\\lib\\site-packages (0.29.23)\n",
      "Requirement already satisfied: fasttext in c:\\users\\reach\\anaconda3\\lib\\site-packages (0.9.2)\n",
      "Requirement already satisfied: numpy in c:\\users\\reach\\anaconda3\\lib\\site-packages (from fasttext) (1.20.1)\n",
      "Requirement already satisfied: setuptools>=0.7.0 in c:\\users\\reach\\anaconda3\\lib\\site-packages (from fasttext) (52.0.0.post20210125)\n",
      "Requirement already satisfied: pybind11>=2.2 in c:\\users\\reach\\anaconda3\\lib\\site-packages (from fasttext) (2.7.1)\n"
     ]
    }
   ],
   "source": [
    "!pip install Cython\n",
    "!pip install fasttext"
   ]
  },
  {
   "cell_type": "code",
   "execution_count": 25,
   "id": "769e0bea",
   "metadata": {},
   "outputs": [],
   "source": [
    "# importing os for setting path\n",
    "import os\n",
    "\n",
    "working_dir = 'C:\\\\Users\\\\reach\\\\OneDrive\\\\Great Learning\\\\rasa2\\\\api'\n",
    "\n",
    "\n",
    "os.chdir(working_dir)\n",
    "\n",
    "# Suppress warnings\n",
    "import warnings; warnings.filterwarnings('ignore')"
   ]
  },
  {
   "cell_type": "code",
   "execution_count": 26,
   "id": "02265a74",
   "metadata": {},
   "outputs": [],
   "source": [
    "import fasttext \n",
    "def fasttextmodelload():\n",
    "    fasttxtmodel = fasttext.load_model('ft_model_Potential.bin')\n",
    "    return fasttxtmodel"
   ]
  },
  {
   "cell_type": "code",
   "execution_count": 27,
   "id": "f48faebe",
   "metadata": {},
   "outputs": [],
   "source": [
    "def fasttxtpotentialacclvl_predict(x):\n",
    "    model = fasttextmodelload()\n",
    "    pred = model.predict(x)\n",
    "    return pred\n"
   ]
  },
  {
   "cell_type": "code",
   "execution_count": 28,
   "id": "99631d60",
   "metadata": {},
   "outputs": [],
   "source": [
    "# def map(x):\n",
    "#     if x == \"__label__3\":\n",
    "#         return \"Potential accident level: 3\"\n",
    "#     elif x == \"__label__1\":\n",
    "#         return \"Potential accident level: 1\"\n",
    "#     elif x == \"__label__2\":\n",
    "#         return \"Potential accident level: 2\"\n",
    "#     elif x == \"__label__4\":\n",
    "#         return \"Potential accident level: 4\"\n",
    "#     elif x == \"__label__5\":\n",
    "#         return \"Potential accident level: 5\"\n"
   ]
  },
  {
   "cell_type": "code",
   "execution_count": 29,
   "id": "dfe66f31",
   "metadata": {},
   "outputs": [
    {
     "name": "stdout",
     "output_type": "stream",
     "text": [
      "[\"__label__1\"]\n"
     ]
    },
    {
     "name": "stderr",
     "output_type": "stream",
     "text": [
      "Warning : `load_model` does not return WordVectorModel or SupervisedModel any more, but a `FastText` object which is very similar.\n"
     ]
    }
   ],
   "source": [
    "#test\n",
    "prediction = fasttxtpotentialacclvl_predict(\"The collaborator reports that he was working in the UstulaciÃ³n and realized that the cyclone duct was obstructed and opened the door to try to unclog the same and the material detached and projected towards the employee causing small burn in the right heel.\") \n",
    "\n",
    "import json\n",
    "\n",
    "jsonObj = json.dumps(prediction[0])\n",
    "print(jsonObj)"
   ]
  },
  {
   "cell_type": "code",
   "execution_count": null,
   "id": "b36fea5a",
   "metadata": {},
   "outputs": [
    {
     "name": "stdout",
     "output_type": "stream",
     "text": [
      " * Serving Flask app \"__main__\" (lazy loading)\n",
      " * Environment: production\n",
      "   WARNING: This is a development server. Do not use it in a production deployment.\n",
      "   Use a production WSGI server instead.\n",
      " * Debug mode: off\n"
     ]
    },
    {
     "name": "stderr",
     "output_type": "stream",
     "text": [
      " * Running on http://127.0.0.1:5000/ (Press CTRL+C to quit)\n",
      "Warning : `load_model` does not return WordVectorModel or SupervisedModel any more, but a `FastText` object which is very similar.\n",
      "127.0.0.1 - - [16/Oct/2021 06:13:04] \"\u001b[37mGET /get_p_acc_lvl?description=The+collaborator+reports+that+he+was+working+in+the+UstulaciÃ³n+and+realized+that+the+cyclone+duct+was+obstructed+and+opened+the+door+to+try+to+unclog+the+same+and+the+material+detached+and+projected+towards+the+employee+causing+small+burn+in+the+right+heel HTTP/1.1\u001b[0m\" 200 -\n"
     ]
    },
    {
     "name": "stdout",
     "output_type": "stream",
     "text": [
      "The collaborator reports that he was working in the UstulaciÃ³n and realized that the cyclone duct was obstructed and opened the door to try to unclog the same and the material detached and projected towards the employee causing small burn in the right heel\n"
     ]
    }
   ],
   "source": [
    "from flask import Flask,request,json,render_template,jsonify\n",
    "\n",
    "app = Flask(__name__) # ,static_url_path='/'\n",
    "\n",
    "#@app.route('/hello')\n",
    "#def index():\n",
    "#    return render_template('index.html',name='John')  #{'hello': 'world'} \n",
    "\n",
    "\n",
    "@app.route('/get_p_acc_lvl', methods=['GET'])\n",
    "def get_potential_accident_level():\n",
    "    \n",
    "    query_parameters = request.args\n",
    "    \n",
    "    acc_desc = query_parameters.get('description')\n",
    "    \n",
    "    prediction = fasttxtpotentialacclvl_predict(acc_desc) #ft.predict('acc_desc')\n",
    "    #prediction = \"Employee was sitting in the resting area at level 326 (raise bore), when he suffered sudden illness, falling and suffering excoriation on the face.\"\n",
    "    \n",
    "    print(acc_desc)\n",
    "    \n",
    "     #pred = json.dumps(prediction[0])\n",
    "     #print(pred)\n",
    "    pred = str(prediction[0])\n",
    "    \n",
    "    if pred == \"('__label__3',)\":\n",
    "        pred =  \"Potential accident level: 3\"\n",
    "    elif pred ==\"('__label__1',)\":\n",
    "        pred = \"Potential accident level: 1\"\n",
    "    elif pred == \"('__label__2',)\":\n",
    "        pred = \"Potential accident level: 2\"\n",
    "    elif pred == \"('__label__4',)\":\n",
    "        pred = \"Potential accident level: 4\"\n",
    "    elif pred == \"('__label__5',)\":\n",
    "        pred =  \"Potential accident level: 5\"\n",
    "    \n",
    "\n",
    "    return jsonify(pred)\n",
    "\n",
    "\n",
    "if __name__ == '__main__':\n",
    "  \n",
    "    app.run()\n"
   ]
  },
  {
   "cell_type": "code",
   "execution_count": null,
   "id": "3bda388a",
   "metadata": {},
   "outputs": [],
   "source": []
  }
 ],
 "metadata": {
  "kernelspec": {
   "display_name": "Python 3",
   "language": "python",
   "name": "python3"
  },
  "language_info": {
   "codemirror_mode": {
    "name": "ipython",
    "version": 3
   },
   "file_extension": ".py",
   "mimetype": "text/x-python",
   "name": "python",
   "nbconvert_exporter": "python",
   "pygments_lexer": "ipython3",
   "version": "3.8.8"
  }
 },
 "nbformat": 4,
 "nbformat_minor": 5
}
