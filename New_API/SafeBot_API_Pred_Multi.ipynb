{
 "cells": [
  {
   "cell_type": "code",
   "execution_count": null,
   "id": "fcce4c37",
   "metadata": {},
   "outputs": [],
   "source": [
    "#!pip install Cython\n",
    "#!pip install fasttext"
   ]
  },
  {
   "cell_type": "code",
   "execution_count": 1,
   "id": "769e0bea",
   "metadata": {},
   "outputs": [],
   "source": [
    "# importing os for setting path\n",
    "import os\n",
    "\n",
    "working_dir = 'E:\\\\Great Learning\\\\DL\\\\Capstone\\\\Data\\\\'\n",
    "\n",
    "os.chdir(working_dir)\n",
    "\n",
    "# Suppress warnings\n",
    "import warnings; warnings.filterwarnings('ignore')"
   ]
  },
  {
   "cell_type": "code",
   "execution_count": 2,
   "id": "02265a74",
   "metadata": {},
   "outputs": [],
   "source": [
    "import fasttext \n",
    "def fasttextmodelload():\n",
    "    fasttxtmodel = fasttext.load_model('safebot_multi.bin')\n",
    "    return fasttxtmodel"
   ]
  },
  {
   "cell_type": "code",
   "execution_count": 3,
   "id": "f48faebe",
   "metadata": {},
   "outputs": [],
   "source": [
    "def fasttxtpotentialacclvl_predict(x):\n",
    "    model = fasttextmodelload()\n",
    "    pred = model.predict(x, k =2)\n",
    "    return pred\n"
   ]
  },
  {
   "cell_type": "code",
   "execution_count": 4,
   "id": "99631d60",
   "metadata": {},
   "outputs": [],
   "source": [
    "# def map(x):\n",
    "#     if x == \"__label__3\":\n",
    "#         return \"Potential accident level: 3\"\n",
    "#     elif x == \"__label__1\":\n",
    "#         return \"Potential accident level: 1\"\n",
    "#     elif x == \"__label__2\":\n",
    "#         return \"Potential accident level: 2\"\n",
    "#     elif x == \"__label__4\":\n",
    "#         return \"Potential accident level: 4\"\n",
    "#     elif x == \"__label__5\":\n",
    "#         return \"Potential accident level: 5\"\n"
   ]
  },
  {
   "cell_type": "code",
   "execution_count": 7,
   "id": "dfe66f31",
   "metadata": {},
   "outputs": [
    {
     "name": "stdout",
     "output_type": "stream",
     "text": [
      "(('__label__1', '__label__3'), array([0.99245459, 0.00417075]))\n",
      "('__label__1'\n",
      " '__label__3')\n"
     ]
    },
    {
     "name": "stderr",
     "output_type": "stream",
     "text": [
      "Warning : `load_model` does not return WordVectorModel or SupervisedModel any more, but a `FastText` object which is very similar.\n"
     ]
    }
   ],
   "source": [
    "#test\n",
    "prediction = fasttxtpotentialacclvl_predict(\"The collaborator reports that he was working in the UstulaciÃ³n and realized that the cyclone duct was obstructed and opened the door to try to unclog the same and the material detached and projected towards the employee causing small burn in the right heel.\") \n",
    "\n",
    "print(prediction)\n",
    "\n",
    "preds = str(prediction[0]).split(',')\n",
    "\n",
    "print(preds[0])\n",
    "print(preds[1])\n",
    "\n",
    "#import json\n",
    "\n",
    "#jsonObj = json.dumps(prediction[0])\n",
    "#print(jsonObj)"
   ]
  },
  {
   "cell_type": "code",
   "execution_count": 8,
   "id": "b36fea5a",
   "metadata": {},
   "outputs": [
    {
     "name": "stdout",
     "output_type": "stream",
     "text": [
      " * Serving Flask app \"__main__\" (lazy loading)\n",
      " * Environment: production\n",
      "   WARNING: This is a development server. Do not use it in a production deployment.\n",
      "   Use a production WSGI server instead.\n",
      " * Debug mode: off\n"
     ]
    },
    {
     "name": "stderr",
     "output_type": "stream",
     "text": [
      " * Running on http://127.0.0.1:5000/ (Press CTRL+C to quit)\n",
      "Warning : `load_model` does not return WordVectorModel or SupervisedModel any more, but a `FastText` object which is very similar.\n",
      "127.0.0.1 - - [19/Oct/2021 22:08:42] \"\u001b[37mGET /get_p_acc_lvl?description=inflamable+and+combustible+material HTTP/1.1\u001b[0m\" 200 -\n"
     ]
    },
    {
     "name": "stdout",
     "output_type": "stream",
     "text": [
      " '__label__2')\n"
     ]
    },
    {
     "name": "stderr",
     "output_type": "stream",
     "text": [
      "Warning : `load_model` does not return WordVectorModel or SupervisedModel any more, but a `FastText` object which is very similar.\n",
      "127.0.0.1 - - [19/Oct/2021 22:11:30] \"\u001b[37mGET /get_p_acc_lvl?description=i+felt+down+and+slipped+on+the+floor HTTP/1.1\u001b[0m\" 200 -\n"
     ]
    },
    {
     "name": "stdout",
     "output_type": "stream",
     "text": [
      " '__label__5')\n"
     ]
    },
    {
     "name": "stderr",
     "output_type": "stream",
     "text": [
      "Warning : `load_model` does not return WordVectorModel or SupervisedModel any more, but a `FastText` object which is very similar.\n",
      "127.0.0.1 - - [19/Oct/2021 22:12:00] \"\u001b[37mGET /get_p_acc_lvl?description=The+cat+ate+the+mouse HTTP/1.1\u001b[0m\" 200 -\n"
     ]
    },
    {
     "name": "stdout",
     "output_type": "stream",
     "text": [
      " '__label__2')\n"
     ]
    }
   ],
   "source": [
    "from flask import Flask,request,json,render_template,jsonify\n",
    "\n",
    "app = Flask(__name__) # ,static_url_path='/'\n",
    "\n",
    "#@app.route('/hello')\n",
    "#def index():\n",
    "#    return render_template('index.html',name='John')  #{'hello': 'world'} \n",
    "\n",
    "\n",
    "@app.route('/get_p_acc_lvl', methods=['GET'])\n",
    "def get_potential_accident_level():\n",
    "    \n",
    "    query_parameters = request.args\n",
    "    \n",
    "    acc_desc = query_parameters.get('description')\n",
    "    \n",
    "    prediction = fasttxtpotentialacclvl_predict(acc_desc) #ft.predict('acc_desc')\n",
    "    #prediction = \"Employee was sitting in the resting area at level 326 (raise bore), when he suffered sudden illness, falling and suffering excoriation on the face.\"\n",
    "    \n",
    "    #print(acc_desc)\n",
    "    \n",
    "     #pred = json.dumps(prediction[0])\n",
    "     #print(pred)\n",
    "    #pred = str(prediction[0])\n",
    "    \n",
    "    preds = str(prediction[0]).split(',')\n",
    "    \n",
    "    \n",
    "    if preds[0] == \"('__label__3'\":\n",
    "        pred_acc =  \"Accident level: 3\"\n",
    "    elif preds[0] ==\"('__label__1'\":\n",
    "        pred_acc = \"Accident level: 1\"\n",
    "    elif preds[0] == \"('__label__2'\":\n",
    "        pred_acc = \"Accident level: 2\"\n",
    "    elif preds[0] == \"('__label__4'\":\n",
    "        pred_acc = \"Accident level: 4\"\n",
    "    elif preds[0] == \"('__label__5'\":\n",
    "        pred_acc =  \"Accident level: 5\"    \n",
    "    else:\n",
    "        pred_acc =  \"Accident level: Undetermined\"\n",
    "    \n",
    "    #print(preds[1])\n",
    "    \n",
    "    if preds[1] == \" '__label__3')\": \n",
    "        pred_pot =  \"Potential accident level: 3\"\n",
    "    elif preds[1] ==\" '__label__1')\":\n",
    "        pred_pot = \"Potential accident level: 1\"\n",
    "    elif preds[1] == \" '__label__2')\":\n",
    "        pred_pot = \"Potential accident level: 2\"\n",
    "    elif preds[1] == \" '__label__4')\":\n",
    "        pred_pot = \"Potential accident level: 4\"\n",
    "    elif preds[1] == \" '__label__5')\":\n",
    "        pred_pot =  \"Potential accident level: 5\"\n",
    "    else:\n",
    "        pred_pot =  \"Potential accident level: Undetermined\"    \n",
    "        \n",
    "    \n",
    "    pred = pred_acc + \" & \" + pred_pot\n",
    "\n",
    "    return jsonify(pred)\n",
    "\n",
    "\n",
    "if __name__ == '__main__':\n",
    "  \n",
    "    app.run()\n"
   ]
  },
  {
   "cell_type": "code",
   "execution_count": null,
   "id": "3bda388a",
   "metadata": {},
   "outputs": [],
   "source": []
  },
  {
   "cell_type": "code",
   "execution_count": null,
   "id": "aba09429",
   "metadata": {},
   "outputs": [],
   "source": []
  },
  {
   "cell_type": "code",
   "execution_count": null,
   "id": "851f1f5f",
   "metadata": {},
   "outputs": [],
   "source": []
  },
  {
   "cell_type": "code",
   "execution_count": null,
   "id": "f0eb3782",
   "metadata": {},
   "outputs": [],
   "source": []
  },
  {
   "cell_type": "code",
   "execution_count": null,
   "id": "91d1ec18",
   "metadata": {},
   "outputs": [],
   "source": []
  }
 ],
 "metadata": {
  "kernelspec": {
   "display_name": "Python 3",
   "language": "python",
   "name": "python3"
  },
  "language_info": {
   "codemirror_mode": {
    "name": "ipython",
    "version": 3
   },
   "file_extension": ".py",
   "mimetype": "text/x-python",
   "name": "python",
   "nbconvert_exporter": "python",
   "pygments_lexer": "ipython3",
   "version": "3.8.8"
  }
 },
 "nbformat": 4,
 "nbformat_minor": 5
}
